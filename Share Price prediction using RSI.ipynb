{
 "cells": [
  {
   "cell_type": "markdown",
   "metadata": {},
   "source": [
    "# Share price prediction using RSI indiacator with Bi-directional RNN architechture"
   ]
  },
  {
   "cell_type": "code",
   "execution_count": 1,
   "metadata": {},
   "outputs": [],
   "source": [
    "import tensorflow as tf\n",
    "import numpy as np\n",
    "import pandas as pd\n",
    "from datetime import datetime, time, date\n",
    "import matplotlib.pyplot as plt\n",
    "from rsi import rsi"
   ]
  },
  {
   "cell_type": "markdown",
   "metadata": {},
   "source": [
    "## Importing data"
   ]
  },
  {
   "cell_type": "code",
   "execution_count": 2,
   "metadata": {},
   "outputs": [],
   "source": [
    "df=pd.read_csv(r\"Share prices\\Asian_paints_15Y.csv\",index_col=\"Date\",parse_dates=True)"
   ]
  },
  {
   "cell_type": "code",
   "execution_count": 3,
   "metadata": {},
   "outputs": [
    {
     "data": {
      "text/html": [
       "<div>\n",
       "<style scoped>\n",
       "    .dataframe tbody tr th:only-of-type {\n",
       "        vertical-align: middle;\n",
       "    }\n",
       "\n",
       "    .dataframe tbody tr th {\n",
       "        vertical-align: top;\n",
       "    }\n",
       "\n",
       "    .dataframe thead th {\n",
       "        text-align: right;\n",
       "    }\n",
       "</style>\n",
       "<table border=\"1\" class=\"dataframe\">\n",
       "  <thead>\n",
       "    <tr style=\"text-align: right;\">\n",
       "      <th></th>\n",
       "      <th>Open</th>\n",
       "      <th>High</th>\n",
       "      <th>Low</th>\n",
       "      <th>Close</th>\n",
       "      <th>Adj Close</th>\n",
       "      <th>Volume</th>\n",
       "    </tr>\n",
       "    <tr>\n",
       "      <th>Date</th>\n",
       "      <th></th>\n",
       "      <th></th>\n",
       "      <th></th>\n",
       "      <th></th>\n",
       "      <th></th>\n",
       "      <th></th>\n",
       "    </tr>\n",
       "  </thead>\n",
       "  <tbody>\n",
       "    <tr>\n",
       "      <th>2005-01-17</th>\n",
       "      <td>31.500000</td>\n",
       "      <td>31.910000</td>\n",
       "      <td>31.299999</td>\n",
       "      <td>31.844999</td>\n",
       "      <td>7.543048</td>\n",
       "      <td>64970.0</td>\n",
       "    </tr>\n",
       "    <tr>\n",
       "      <th>2005-01-18</th>\n",
       "      <td>31.500000</td>\n",
       "      <td>32.000000</td>\n",
       "      <td>31.500000</td>\n",
       "      <td>31.930000</td>\n",
       "      <td>7.563182</td>\n",
       "      <td>63840.0</td>\n",
       "    </tr>\n",
       "    <tr>\n",
       "      <th>2005-01-19</th>\n",
       "      <td>32.299999</td>\n",
       "      <td>32.500000</td>\n",
       "      <td>31.770000</td>\n",
       "      <td>32.259998</td>\n",
       "      <td>7.641345</td>\n",
       "      <td>623920.0</td>\n",
       "    </tr>\n",
       "    <tr>\n",
       "      <th>2005-01-20</th>\n",
       "      <td>32.900002</td>\n",
       "      <td>33.200001</td>\n",
       "      <td>32.000000</td>\n",
       "      <td>32.404999</td>\n",
       "      <td>7.675693</td>\n",
       "      <td>161410.0</td>\n",
       "    </tr>\n",
       "    <tr>\n",
       "      <th>2005-01-24</th>\n",
       "      <td>32.400002</td>\n",
       "      <td>33.740002</td>\n",
       "      <td>32.099998</td>\n",
       "      <td>32.985001</td>\n",
       "      <td>7.813076</td>\n",
       "      <td>1160320.0</td>\n",
       "    </tr>\n",
       "    <tr>\n",
       "      <th>...</th>\n",
       "      <td>...</td>\n",
       "      <td>...</td>\n",
       "      <td>...</td>\n",
       "      <td>...</td>\n",
       "      <td>...</td>\n",
       "      <td>...</td>\n",
       "    </tr>\n",
       "    <tr>\n",
       "      <th>2020-10-09</th>\n",
       "      <td>2090.000000</td>\n",
       "      <td>2107.149902</td>\n",
       "      <td>2046.449951</td>\n",
       "      <td>2050.399902</td>\n",
       "      <td>2050.399902</td>\n",
       "      <td>45926.0</td>\n",
       "    </tr>\n",
       "    <tr>\n",
       "      <th>2020-10-12</th>\n",
       "      <td>2077.000000</td>\n",
       "      <td>2085.949951</td>\n",
       "      <td>2041.449951</td>\n",
       "      <td>2076.899902</td>\n",
       "      <td>2076.899902</td>\n",
       "      <td>41379.0</td>\n",
       "    </tr>\n",
       "    <tr>\n",
       "      <th>2020-10-13</th>\n",
       "      <td>2072.000000</td>\n",
       "      <td>2112.899902</td>\n",
       "      <td>2054.399902</td>\n",
       "      <td>2064.750000</td>\n",
       "      <td>2064.750000</td>\n",
       "      <td>48983.0</td>\n",
       "    </tr>\n",
       "    <tr>\n",
       "      <th>2020-10-14</th>\n",
       "      <td>2066.050049</td>\n",
       "      <td>2084.350098</td>\n",
       "      <td>2055.149902</td>\n",
       "      <td>2071.300049</td>\n",
       "      <td>2071.300049</td>\n",
       "      <td>53116.0</td>\n",
       "    </tr>\n",
       "    <tr>\n",
       "      <th>2020-10-15</th>\n",
       "      <td>2077.600098</td>\n",
       "      <td>2122.800049</td>\n",
       "      <td>2069.449951</td>\n",
       "      <td>2089.399902</td>\n",
       "      <td>2089.399902</td>\n",
       "      <td>203353.0</td>\n",
       "    </tr>\n",
       "  </tbody>\n",
       "</table>\n",
       "<p>3891 rows × 6 columns</p>\n",
       "</div>"
      ],
      "text/plain": [
       "                   Open         High          Low        Close    Adj Close  \\\n",
       "Date                                                                          \n",
       "2005-01-17    31.500000    31.910000    31.299999    31.844999     7.543048   \n",
       "2005-01-18    31.500000    32.000000    31.500000    31.930000     7.563182   \n",
       "2005-01-19    32.299999    32.500000    31.770000    32.259998     7.641345   \n",
       "2005-01-20    32.900002    33.200001    32.000000    32.404999     7.675693   \n",
       "2005-01-24    32.400002    33.740002    32.099998    32.985001     7.813076   \n",
       "...                 ...          ...          ...          ...          ...   \n",
       "2020-10-09  2090.000000  2107.149902  2046.449951  2050.399902  2050.399902   \n",
       "2020-10-12  2077.000000  2085.949951  2041.449951  2076.899902  2076.899902   \n",
       "2020-10-13  2072.000000  2112.899902  2054.399902  2064.750000  2064.750000   \n",
       "2020-10-14  2066.050049  2084.350098  2055.149902  2071.300049  2071.300049   \n",
       "2020-10-15  2077.600098  2122.800049  2069.449951  2089.399902  2089.399902   \n",
       "\n",
       "               Volume  \n",
       "Date                   \n",
       "2005-01-17    64970.0  \n",
       "2005-01-18    63840.0  \n",
       "2005-01-19   623920.0  \n",
       "2005-01-20   161410.0  \n",
       "2005-01-24  1160320.0  \n",
       "...               ...  \n",
       "2020-10-09    45926.0  \n",
       "2020-10-12    41379.0  \n",
       "2020-10-13    48983.0  \n",
       "2020-10-14    53116.0  \n",
       "2020-10-15   203353.0  \n",
       "\n",
       "[3891 rows x 6 columns]"
      ]
     },
     "execution_count": 3,
     "metadata": {},
     "output_type": "execute_result"
    }
   ],
   "source": [
    "df"
   ]
  },
  {
   "cell_type": "markdown",
   "metadata": {},
   "source": [
    "## Cleaning Data"
   ]
  },
  {
   "cell_type": "code",
   "execution_count": 4,
   "metadata": {},
   "outputs": [
    {
     "data": {
      "text/plain": [
       "Open         True\n",
       "High         True\n",
       "Low          True\n",
       "Close        True\n",
       "Adj Close    True\n",
       "Volume       True\n",
       "dtype: bool"
      ]
     },
     "execution_count": 4,
     "metadata": {},
     "output_type": "execute_result"
    }
   ],
   "source": [
    "df.isna().any()"
   ]
  },
  {
   "cell_type": "code",
   "execution_count": 5,
   "metadata": {},
   "outputs": [],
   "source": [
    "df=df.dropna()"
   ]
  },
  {
   "cell_type": "code",
   "execution_count": 6,
   "metadata": {},
   "outputs": [
    {
     "data": {
      "text/plain": [
       "Open         False\n",
       "High         False\n",
       "Low          False\n",
       "Close        False\n",
       "Adj Close    False\n",
       "Volume       False\n",
       "dtype: bool"
      ]
     },
     "execution_count": 6,
     "metadata": {},
     "output_type": "execute_result"
    }
   ],
   "source": [
    "df.isna().any()"
   ]
  },
  {
   "cell_type": "code",
   "execution_count": 7,
   "metadata": {},
   "outputs": [
    {
     "name": "stdout",
     "output_type": "stream",
     "text": [
      "<class 'pandas.core.frame.DataFrame'>\n",
      "DatetimeIndex: 3878 entries, 2005-01-17 to 2020-10-15\n",
      "Data columns (total 6 columns):\n",
      " #   Column     Non-Null Count  Dtype  \n",
      "---  ------     --------------  -----  \n",
      " 0   Open       3878 non-null   float64\n",
      " 1   High       3878 non-null   float64\n",
      " 2   Low        3878 non-null   float64\n",
      " 3   Close      3878 non-null   float64\n",
      " 4   Adj Close  3878 non-null   float64\n",
      " 5   Volume     3878 non-null   float64\n",
      "dtypes: float64(6)\n",
      "memory usage: 212.1 KB\n"
     ]
    }
   ],
   "source": [
    "df.info()"
   ]
  },
  {
   "cell_type": "markdown",
   "metadata": {},
   "source": [
    "## Getting RSI values"
   ]
  },
  {
   "cell_type": "code",
   "execution_count": 8,
   "metadata": {},
   "outputs": [],
   "source": [
    "df1=df[['Close']].copy()\n",
    "df1[\"rsi\"]=rsi(df)"
   ]
  },
  {
   "cell_type": "code",
   "execution_count": 9,
   "metadata": {},
   "outputs": [
    {
     "data": {
      "text/html": [
       "<div>\n",
       "<style scoped>\n",
       "    .dataframe tbody tr th:only-of-type {\n",
       "        vertical-align: middle;\n",
       "    }\n",
       "\n",
       "    .dataframe tbody tr th {\n",
       "        vertical-align: top;\n",
       "    }\n",
       "\n",
       "    .dataframe thead th {\n",
       "        text-align: right;\n",
       "    }\n",
       "</style>\n",
       "<table border=\"1\" class=\"dataframe\">\n",
       "  <thead>\n",
       "    <tr style=\"text-align: right;\">\n",
       "      <th></th>\n",
       "      <th>Close</th>\n",
       "      <th>rsi</th>\n",
       "    </tr>\n",
       "    <tr>\n",
       "      <th>Date</th>\n",
       "      <th></th>\n",
       "      <th></th>\n",
       "    </tr>\n",
       "  </thead>\n",
       "  <tbody>\n",
       "    <tr>\n",
       "      <th>2005-01-17</th>\n",
       "      <td>31.844999</td>\n",
       "      <td>0.000000</td>\n",
       "    </tr>\n",
       "    <tr>\n",
       "      <th>2005-01-18</th>\n",
       "      <td>31.930000</td>\n",
       "      <td>0.000000</td>\n",
       "    </tr>\n",
       "    <tr>\n",
       "      <th>2005-01-19</th>\n",
       "      <td>32.259998</td>\n",
       "      <td>0.000000</td>\n",
       "    </tr>\n",
       "    <tr>\n",
       "      <th>2005-01-20</th>\n",
       "      <td>32.404999</td>\n",
       "      <td>0.000000</td>\n",
       "    </tr>\n",
       "    <tr>\n",
       "      <th>2005-01-24</th>\n",
       "      <td>32.985001</td>\n",
       "      <td>0.000000</td>\n",
       "    </tr>\n",
       "    <tr>\n",
       "      <th>...</th>\n",
       "      <td>...</td>\n",
       "      <td>...</td>\n",
       "    </tr>\n",
       "    <tr>\n",
       "      <th>2020-10-09</th>\n",
       "      <td>2050.399902</td>\n",
       "      <td>58.160477</td>\n",
       "    </tr>\n",
       "    <tr>\n",
       "      <th>2020-10-12</th>\n",
       "      <td>2076.899902</td>\n",
       "      <td>61.077012</td>\n",
       "    </tr>\n",
       "    <tr>\n",
       "      <th>2020-10-13</th>\n",
       "      <td>2064.750000</td>\n",
       "      <td>59.044779</td>\n",
       "    </tr>\n",
       "    <tr>\n",
       "      <th>2020-10-14</th>\n",
       "      <td>2071.300049</td>\n",
       "      <td>59.820940</td>\n",
       "    </tr>\n",
       "    <tr>\n",
       "      <th>2020-10-15</th>\n",
       "      <td>2089.399902</td>\n",
       "      <td>61.965956</td>\n",
       "    </tr>\n",
       "  </tbody>\n",
       "</table>\n",
       "<p>3878 rows × 2 columns</p>\n",
       "</div>"
      ],
      "text/plain": [
       "                  Close        rsi\n",
       "Date                              \n",
       "2005-01-17    31.844999   0.000000\n",
       "2005-01-18    31.930000   0.000000\n",
       "2005-01-19    32.259998   0.000000\n",
       "2005-01-20    32.404999   0.000000\n",
       "2005-01-24    32.985001   0.000000\n",
       "...                 ...        ...\n",
       "2020-10-09  2050.399902  58.160477\n",
       "2020-10-12  2076.899902  61.077012\n",
       "2020-10-13  2064.750000  59.044779\n",
       "2020-10-14  2071.300049  59.820940\n",
       "2020-10-15  2089.399902  61.965956\n",
       "\n",
       "[3878 rows x 2 columns]"
      ]
     },
     "execution_count": 9,
     "metadata": {},
     "output_type": "execute_result"
    }
   ],
   "source": [
    "df1"
   ]
  },
  {
   "cell_type": "markdown",
   "metadata": {},
   "source": [
    "## Plotting Price and RSI"
   ]
  },
  {
   "cell_type": "code",
   "execution_count": null,
   "metadata": {},
   "outputs": [],
   "source": [
    "plt.figure(figsize=(16,12))\n",
    "\n",
    "plt.subplot(2,1,1)\n",
    "plt.plot(dates[14:],df1.iloc[14:,0].values, linewidth =3)\n",
    "plt.xlabel('Date')\n",
    "plt.ylabel('Close Price')\n",
    "plt.title(\"Price vs Time\")\n",
    "plt.grid()\n",
    "\n",
    "plt.subplot(2,1,2)\n",
    "plt.plot(dates[14:],df1.iloc[14:,1].values, linewidth =3)\n",
    "plt.xlabel('Date')\n",
    "plt.ylabel('RSI')\n",
    "plt.hlines(70,dates[0],dates[-1],color=\"y\",linestyles=\"dashed\", linewidth =5)\n",
    "plt.hlines(30,dates[0],dates[-1],color=\"y\",linestyles=\"dashed\", linewidth =5)\n",
    "plt.title(\"RSI vs Time\")\n",
    "plt.grid()"
   ]
  },
  {
   "cell_type": "markdown",
   "metadata": {},
   "source": [
    "# LSTM"
   ]
  },
  {
   "cell_type": "markdown",
   "metadata": {},
   "source": [
    "## scaling the data in range (0,1)"
   ]
  },
  {
   "cell_type": "code",
   "execution_count": null,
   "metadata": {},
   "outputs": [],
   "source": [
    "from sklearn.preprocessing import MinMaxScaler\n",
    "sc=MinMaxScaler(feature_range=(0,1))\n",
    "df2=sc.fit_transform(np.array(df1.iloc[14:,:]).reshape(-1,2))"
   ]
  },
  {
   "cell_type": "markdown",
   "metadata": {},
   "source": [
    "## Spliting training data"
   ]
  },
  {
   "cell_type": "code",
   "execution_count": null,
   "metadata": {},
   "outputs": [],
   "source": [
    "#70% training data & 30% testing data\n",
    "\n",
    "training_size=int((len(df1)-14)*0.7)\n",
    "test_size=(len(df1)-14)-training_size\n",
    "training_data,test_data = df2[0 : training_size, :], df2[training_size:len(df2),:] \n",
    "# test data is  ==>  from 0.7*total to end"
   ]
  },
  {
   "cell_type": "code",
   "execution_count": null,
   "metadata": {},
   "outputs": [],
   "source": [
    "training_data"
   ]
  },
  {
   "cell_type": "code",
   "execution_count": null,
   "metadata": {},
   "outputs": [],
   "source": [
    "test_data"
   ]
  },
  {
   "cell_type": "code",
   "execution_count": null,
   "metadata": {},
   "outputs": [],
   "source": [
    "training_size, test_size"
   ]
  },
  {
   "cell_type": "markdown",
   "metadata": {},
   "source": [
    "## Creating the training data set"
   ]
  },
  {
   "cell_type": "code",
   "execution_count": null,
   "metadata": {},
   "outputs": [],
   "source": [
    "# Convert an array of values into a dataset matrix\n",
    "def create_dataset(dataset, timestep):\n",
    "    dataY = []\n",
    "    dataX=[]\n",
    "    for i in range (len(dataset)-timestep-1):\n",
    "        a=dataset[i:(i+timestep),:]                         #Ex - storing the values from 1 to 50\n",
    "        dataX.append(a)\n",
    "        dataY.append(dataset[i+timestep, 0])     #Ex - The output will be 51st day closing price\n",
    "    return  np.array(dataX), np.array(dataY)"
   ]
  },
  {
   "cell_type": "code",
   "execution_count": null,
   "metadata": {},
   "outputs": [],
   "source": [
    "# creating train data and test data\n",
    "timestep=100\n",
    "X_train, Y_train =create_dataset(training_data, timestep)\n",
    "print(\"X_train will start from \"+str(timestep)+\" to \"+str(len(training_data)-timestep) )\n",
    "X_test, Y_test = create_dataset(test_data, timestep)\n",
    "\n",
    "# the test set will be ==>  from (total - timestep-1) to (total-1)"
   ]
  },
  {
   "cell_type": "code",
   "execution_count": null,
   "metadata": {},
   "outputs": [],
   "source": [
    "X_train.shape"
   ]
  },
  {
   "cell_type": "code",
   "execution_count": null,
   "metadata": {},
   "outputs": [],
   "source": [
    "X_test.shape"
   ]
  },
  {
   "cell_type": "markdown",
   "metadata": {},
   "source": [
    "## Creating stack LSTM model"
   ]
  },
  {
   "cell_type": "code",
   "execution_count": null,
   "metadata": {},
   "outputs": [],
   "source": [
    "from tensorflow.keras.models import Sequential\n",
    "from tensorflow.keras.layers import Dense\n",
    "from tensorflow.keras.layers import LSTM\n",
    "from tensorflow.keras.layers import Bidirectional"
   ]
  },
  {
   "cell_type": "code",
   "execution_count": null,
   "metadata": {},
   "outputs": [],
   "source": [
    "\"\"\"\n",
    "TO UNDERSTAND THE LSTM INPUT/OUTPUT SHAPE ---\n",
    "https://medium.com/@shivajbd/understanding-input-and-output-shape-in-lstm-keras-c501ee95c65e\n",
    "\"\"\"\n",
    "\n",
    "\"\"\"\n",
    "TO UNDERSTAND RETURN SEQUENCES ---\n",
    "https://www.dlology.com/blog/how-to-use-return_state-or-return_sequences-in-keras/\n",
    "\n",
    "return sequences= True  gives the output for all the time steps\n",
    "if return sequences = False returns the putput of the last timestep  -- RNN layer will only return the last hidden state output a<T>\n",
    "\"\"\"\n",
    "\n",
    "\"\"\"\n",
    "STACKED LSTM ---\n",
    "https://machinelearningmastery.com/stacked-long-short-term-memory-networks/\n",
    "\"\"\"\n",
    "\n",
    "model =Sequential()\n",
    "model.add(Bidirectional(LSTM(50, return_sequences=True), input_shape=(X_train.shape[1],2)))\n",
    "model.add(Bidirectional(LSTM(50, return_sequences=True)))\n",
    "model.add(Bidirectional(LSTM(50, return_sequences=True)))\n",
    "model.add(Bidirectional(LSTM(50)))\n",
    "\n",
    "model.add(Dense(1))\n",
    "model.compile(loss=\"mean_squared_error\", optimizer=\"adam\")"
   ]
  },
  {
   "cell_type": "code",
   "execution_count": null,
   "metadata": {},
   "outputs": [],
   "source": [
    "model.summary()"
   ]
  },
  {
   "cell_type": "markdown",
   "metadata": {},
   "source": [
    "## Creating checkpoint to store weights"
   ]
  },
  {
   "cell_type": "code",
   "execution_count": null,
   "metadata": {},
   "outputs": [],
   "source": [
    "import os\n",
    "checkpoint_path = \"D:\\Python codes\\Share price prediction\\Trained weights\\Bidirectional RNN with RSI/cp.ckpt\"      #Run and save on computert\n",
    "#checkpoint_path = \"/content/drive/My Drive/Colab Notebooks/Share Price prediction/Weights/cp.ckpt\"                                                                 #Save on drive\n",
    "checkpoint_dir = os.path.dirname(checkpoint_path)\n",
    "\n",
    "# Create a callback that saves the model's weights\n",
    "cp_callback = tf.keras.callbacks.ModelCheckpoint(filepath=checkpoint_path,\n",
    "                                                 save_weights_only=True,\n",
    "                                                 verbose=1)"
   ]
  },
  {
   "cell_type": "code",
   "execution_count": null,
   "metadata": {},
   "outputs": [],
   "source": [
    "model.fit(X_train,Y_train,validation_data =(X_test, Y_test), \n",
    "                    epochs =100, \n",
    "                    batch_size=32,\n",
    "                   verbose=1,\n",
    "                    callbacks=[cp_callback])"
   ]
  },
  {
   "cell_type": "code",
   "execution_count": null,
   "metadata": {},
   "outputs": [],
   "source": []
  }
 ],
 "metadata": {
  "kernelspec": {
   "display_name": "Python 3",
   "language": "python",
   "name": "python3"
  },
  "language_info": {
   "codemirror_mode": {
    "name": "ipython",
    "version": 3
   },
   "file_extension": ".py",
   "mimetype": "text/x-python",
   "name": "python",
   "nbconvert_exporter": "python",
   "pygments_lexer": "ipython3",
   "version": "3.7.9"
  }
 },
 "nbformat": 4,
 "nbformat_minor": 4
}
