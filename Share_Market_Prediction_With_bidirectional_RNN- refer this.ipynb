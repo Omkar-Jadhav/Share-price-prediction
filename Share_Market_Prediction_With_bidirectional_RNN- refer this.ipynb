{
  "nbformat": 4,
  "nbformat_minor": 0,
  "metadata": {
    "kernelspec": {
      "display_name": "Python 3",
      "language": "python",
      "name": "python3"
    },
    "language_info": {
      "codemirror_mode": {
        "name": "ipython",
        "version": 3
      },
      "file_extension": ".py",
      "mimetype": "text/x-python",
      "name": "python",
      "nbconvert_exporter": "python",
      "pygments_lexer": "ipython3",
      "version": "3.7.9"
    },
    "colab": {
      "name": "Share Market Prediction - With bidirectional RNN.ipynb",
      "provenance": [],
      "collapsed_sections": []
    },
    "accelerator": "GPU"
  },
  "cells": [
    {
      "cell_type": "code",
      "metadata": {
        "id": "tYMU3Wb3sYpx"
      },
      "source": [
        "# Data Collection \n",
        "import pandas_datareader as pdr\n",
        "import pandas as pd\n",
        "import matplotlib.pyplot as plt\n",
        "import numpy as np\n",
        "import tensorflow as tf\n",
        "import datetime"
      ],
      "execution_count": null,
      "outputs": []
    },
    {
      "cell_type": "markdown",
      "metadata": {
        "id": "VLCia4xSR6aX"
      },
      "source": [
        ""
      ]
    },
    {
      "cell_type": "code",
      "metadata": {
        "id": "bslb5HWuGbGn"
      },
      "source": [
        "#For training on google colab\n",
        "from tensorflow.compat.v1 import ConfigProto\n",
        "from tensorflow.compat.v1 import InteractiveSession\n",
        "\n",
        "config=ConfigProto()\n",
        "config.gpu_options.per_process_gpu_memory_fraction=0.8\n",
        "config.gpu_options.allow_growth =True\n",
        "session= InteractiveSession(config=config)"
      ],
      "execution_count": null,
      "outputs": []
    },
    {
      "cell_type": "code",
      "metadata": {
        "id": "bMKqH_w5Gm-W",
        "colab": {
          "base_uri": "https://localhost:8080/"
        },
        "outputId": "a06b6d1d-19f8-41d4-a4b1-d59266fdc70d"
      },
      "source": [
        "#For accessing google drive\n",
        "from google.colab import drive\n",
        "drive.mount('/content/drive')"
      ],
      "execution_count": 3,
      "outputs": [
        {
          "output_type": "stream",
          "text": [
            "Mounted at /content/drive\n"
          ],
          "name": "stdout"
        }
      ]
    },
    {
      "cell_type": "code",
      "metadata": {
        "id": "OqJGJl2UsYp7"
      },
      "source": [
        "#Importing data\n",
        "df=pd.read_csv(r\"/content/drive/My Drive/Colab Notebooks/Share Price prediction/Asian_paints_15Y.csv\",index_col=\"Date\",parse_dates=True)\n",
        "dfv=pd.read_csv(r\"/content/drive/My Drive/Colab Notebooks/Share Price prediction/HINDUUNI_15Y.csv\",index_col=\"Date\",parse_dates=True)"
      ],
      "execution_count": 4,
      "outputs": []
    },
    {
      "cell_type": "code",
      "metadata": {
        "id": "uNrfqXHGsYqE",
        "colab": {
          "base_uri": "https://localhost:8080/"
        },
        "outputId": "0d96801c-05b1-4ffa-c29a-05d639091011"
      },
      "source": [
        "#Checking for null values\n",
        "df.isna().any()\n",
        "dfv.isna().any()"
      ],
      "execution_count": 5,
      "outputs": [
        {
          "output_type": "execute_result",
          "data": {
            "text/plain": [
              "Open         True\n",
              "High         True\n",
              "Low          True\n",
              "Close        True\n",
              "Adj Close    True\n",
              "Volume       True\n",
              "dtype: bool"
            ]
          },
          "metadata": {
            "tags": []
          },
          "execution_count": 5
        }
      ]
    },
    {
      "cell_type": "code",
      "metadata": {
        "id": "rsr4GtkSsYqM"
      },
      "source": [
        "#dropping rows with null values in the dataframe\n",
        "df=df.dropna()\n",
        "dfv=dfv.dropna()"
      ],
      "execution_count": 6,
      "outputs": []
    },
    {
      "cell_type": "code",
      "metadata": {
        "id": "OVyQhqM-sYqT",
        "colab": {
          "base_uri": "https://localhost:8080/"
        },
        "outputId": "1a409a4a-35db-4c4c-ca68-f779771e7814"
      },
      "source": [
        "#Checking for null values\n",
        "df.isna().any()\n",
        "dfv.isna().any()"
      ],
      "execution_count": 7,
      "outputs": [
        {
          "output_type": "execute_result",
          "data": {
            "text/plain": [
              "Open         False\n",
              "High         False\n",
              "Low          False\n",
              "Close        False\n",
              "Adj Close    False\n",
              "Volume       False\n",
              "dtype: bool"
            ]
          },
          "metadata": {
            "tags": []
          },
          "execution_count": 7
        }
      ]
    },
    {
      "cell_type": "code",
      "metadata": {
        "id": "dTOfTSVIsYqZ",
        "colab": {
          "base_uri": "https://localhost:8080/",
          "height": 225
        },
        "outputId": "d56e253e-aeea-41b7-f895-14c83c050ac7"
      },
      "source": [
        "df.head()"
      ],
      "execution_count": 8,
      "outputs": [
        {
          "output_type": "execute_result",
          "data": {
            "text/html": [
              "<div>\n",
              "<style scoped>\n",
              "    .dataframe tbody tr th:only-of-type {\n",
              "        vertical-align: middle;\n",
              "    }\n",
              "\n",
              "    .dataframe tbody tr th {\n",
              "        vertical-align: top;\n",
              "    }\n",
              "\n",
              "    .dataframe thead th {\n",
              "        text-align: right;\n",
              "    }\n",
              "</style>\n",
              "<table border=\"1\" class=\"dataframe\">\n",
              "  <thead>\n",
              "    <tr style=\"text-align: right;\">\n",
              "      <th></th>\n",
              "      <th>Open</th>\n",
              "      <th>High</th>\n",
              "      <th>Low</th>\n",
              "      <th>Close</th>\n",
              "      <th>Adj Close</th>\n",
              "      <th>Volume</th>\n",
              "    </tr>\n",
              "    <tr>\n",
              "      <th>Date</th>\n",
              "      <th></th>\n",
              "      <th></th>\n",
              "      <th></th>\n",
              "      <th></th>\n",
              "      <th></th>\n",
              "      <th></th>\n",
              "    </tr>\n",
              "  </thead>\n",
              "  <tbody>\n",
              "    <tr>\n",
              "      <th>2005-01-17</th>\n",
              "      <td>31.500000</td>\n",
              "      <td>31.910000</td>\n",
              "      <td>31.299999</td>\n",
              "      <td>31.844999</td>\n",
              "      <td>7.543048</td>\n",
              "      <td>64970.0</td>\n",
              "    </tr>\n",
              "    <tr>\n",
              "      <th>2005-01-18</th>\n",
              "      <td>31.500000</td>\n",
              "      <td>32.000000</td>\n",
              "      <td>31.500000</td>\n",
              "      <td>31.930000</td>\n",
              "      <td>7.563182</td>\n",
              "      <td>63840.0</td>\n",
              "    </tr>\n",
              "    <tr>\n",
              "      <th>2005-01-19</th>\n",
              "      <td>32.299999</td>\n",
              "      <td>32.500000</td>\n",
              "      <td>31.770000</td>\n",
              "      <td>32.259998</td>\n",
              "      <td>7.641345</td>\n",
              "      <td>623920.0</td>\n",
              "    </tr>\n",
              "    <tr>\n",
              "      <th>2005-01-20</th>\n",
              "      <td>32.900002</td>\n",
              "      <td>33.200001</td>\n",
              "      <td>32.000000</td>\n",
              "      <td>32.404999</td>\n",
              "      <td>7.675693</td>\n",
              "      <td>161410.0</td>\n",
              "    </tr>\n",
              "    <tr>\n",
              "      <th>2005-01-24</th>\n",
              "      <td>32.400002</td>\n",
              "      <td>33.740002</td>\n",
              "      <td>32.099998</td>\n",
              "      <td>32.985001</td>\n",
              "      <td>7.813076</td>\n",
              "      <td>1160320.0</td>\n",
              "    </tr>\n",
              "  </tbody>\n",
              "</table>\n",
              "</div>"
            ],
            "text/plain": [
              "                 Open       High        Low      Close  Adj Close     Volume\n",
              "Date                                                                        \n",
              "2005-01-17  31.500000  31.910000  31.299999  31.844999   7.543048    64970.0\n",
              "2005-01-18  31.500000  32.000000  31.500000  31.930000   7.563182    63840.0\n",
              "2005-01-19  32.299999  32.500000  31.770000  32.259998   7.641345   623920.0\n",
              "2005-01-20  32.900002  33.200001  32.000000  32.404999   7.675693   161410.0\n",
              "2005-01-24  32.400002  33.740002  32.099998  32.985001   7.813076  1160320.0"
            ]
          },
          "metadata": {
            "tags": []
          },
          "execution_count": 8
        }
      ]
    },
    {
      "cell_type": "code",
      "metadata": {
        "id": "ejfD0gV-sYqg",
        "colab": {
          "base_uri": "https://localhost:8080/"
        },
        "outputId": "dc6c62a3-b8c0-44dd-e565-b51801a94a84"
      },
      "source": [
        "df.info()"
      ],
      "execution_count": 9,
      "outputs": [
        {
          "output_type": "stream",
          "text": [
            "<class 'pandas.core.frame.DataFrame'>\n",
            "DatetimeIndex: 3878 entries, 2005-01-17 to 2020-10-15\n",
            "Data columns (total 6 columns):\n",
            " #   Column     Non-Null Count  Dtype  \n",
            "---  ------     --------------  -----  \n",
            " 0   Open       3878 non-null   float64\n",
            " 1   High       3878 non-null   float64\n",
            " 2   Low        3878 non-null   float64\n",
            " 3   Close      3878 non-null   float64\n",
            " 4   Adj Close  3878 non-null   float64\n",
            " 5   Volume     3878 non-null   float64\n",
            "dtypes: float64(6)\n",
            "memory usage: 212.1 KB\n"
          ],
          "name": "stdout"
        }
      ]
    },
    {
      "cell_type": "code",
      "metadata": {
        "id": "Cl7tGVQwsYqo"
      },
      "source": [
        "#Reseting index column of the dataframe to Close\n",
        "df1=df.reset_index()[\"Adj Close\"]\n",
        "dfv1=dfv.reset_index()[\"Adj Close\"]"
      ],
      "execution_count": 10,
      "outputs": []
    },
    {
      "cell_type": "code",
      "metadata": {
        "id": "IjBOeaNbsYqz",
        "colab": {
          "base_uri": "https://localhost:8080/",
          "height": 483
        },
        "outputId": "655d6f61-3ca5-4b22-d5c9-62fd0514c722"
      },
      "source": [
        "#Visualizing the close price\n",
        "dates=np.array(df.index)\n",
        "plt.figure(figsize=(16,8))\n",
        "plt.plot(dates,df1.values, linewidth =3)\n",
        "plt.show()"
      ],
      "execution_count": 11,
      "outputs": [
        {
          "output_type": "display_data",
          "data": {
            "image/png": "[encoded data removed]",
            "text/plain": [
              "<Figure size 1152x576 with 1 Axes>"
            ]
          },
          "metadata": {
            "tags": [],
            "needs_background": "light"
          }
        }
      ]
    },
    {
      "cell_type": "code",
      "metadata": {
        "id": "fYvRNFjcsYq9"
      },
      "source": [
        "### LSTM"
      ],
      "execution_count": null,
      "outputs": []
    },
    {
      "cell_type": "code",
      "metadata": {
        "id": "um2Ku3wysYrB"
      },
      "source": [
        "# scaling the data in range (0,1)\n",
        "from sklearn.preprocessing import MinMaxScaler\n",
        "sc=MinMaxScaler(feature_range=(0,1))\n",
        "df2=sc.fit_transform(np.array(df1).reshape(-1,1))\n",
        "dfv2=sc.transform(np.array(dfv1).reshape(-1,1))"
      ],
      "execution_count": 12,
      "outputs": []
    },
    {
      "cell_type": "code",
      "metadata": {
        "id": "uXdkfdgksYrG"
      },
      "source": [
        "# Spliting the data set in training and test set \n",
        "#70% training data & 30% testing data\n",
        "\n",
        "#training_size=int(len(df1)*0.7)\n",
        "#test_size=len(df2)-training_size\n",
        "#training_data,test_data = df2[0 : training_size, :], df2[training_size:len(df2),:1] \n",
        "# test data is  ==>  from 0.7*total to end\n",
        "\n",
        "training_size=int(len(df))\n",
        "training_data=df2[0:training_size,:]\n",
        "test_size=(len(dfv))\n",
        "test_data=dfv2[0:test_size,:]\n"
      ],
      "execution_count": 13,
      "outputs": []
    },
    {
      "cell_type": "code",
      "metadata": {
        "id": "agPjaF8jsYrK",
        "colab": {
          "base_uri": "https://localhost:8080/"
        },
        "outputId": "426e4de2-f3b7-4c3e-d65b-5d149d405689"
      },
      "source": [
        "training_size, test_size"
      ],
      "execution_count": 14,
      "outputs": [
        {
          "output_type": "execute_result",
          "data": {
            "text/plain": [
              "(3878, 3876)"
            ]
          },
          "metadata": {
            "tags": []
          },
          "execution_count": 14
        }
      ]
    },
    {
      "cell_type": "code",
      "metadata": {
        "id": "ydhTWfeCsYrO"
      },
      "source": [
        "# Convert an array of values into a dataset matrix\n",
        "#creating the training data set\n",
        "def create_dataset(dataset, timestep):\n",
        "    dataX,dataY=[] , []\n",
        "    for i in range (len(dataset)-timestep-1):\n",
        "        a=dataset[i:(i+timestep),0]                         #Ex - storing the values from 1 to 50\n",
        "        dataX.append(a)\n",
        "        dataY.append(dataset[i+timestep, 0])     #Ex - The output will be 51st day closing price\n",
        "    return  np.array(dataX), np.array(dataY)"
      ],
      "execution_count": 15,
      "outputs": []
    },
    {
      "cell_type": "code",
      "metadata": {
        "id": "4bkPdcyVsYrR",
        "colab": {
          "base_uri": "https://localhost:8080/"
        },
        "outputId": "1695f6c6-d4b9-4bff-cb00-ddc7559f6bde"
      },
      "source": [
        "# creating train data and test data\n",
        "timestep=100\n",
        "X_train, Y_train =create_dataset(training_data, timestep)\n",
        "print(\"X_train will start from \"+str(timestep)+\" to \"+str(len(training_data)-timestep) )\n",
        "X_test, Y_test = create_dataset(test_data, timestep)\n",
        "\n",
        "# the test set will be ==>  from (total - timestep-1) to (total-1)"
      ],
      "execution_count": 16,
      "outputs": [
        {
          "output_type": "stream",
          "text": [
            "X_train will start from 100 to 3778\n"
          ],
          "name": "stdout"
        }
      ]
    },
    {
      "cell_type": "code",
      "metadata": {
        "id": "DS1ozq8LsYrU",
        "colab": {
          "base_uri": "https://localhost:8080/"
        },
        "outputId": "bbdf9104-54a4-43b2-d759-5a66a347a67f"
      },
      "source": [
        "X_train.shape,Y_train.shape"
      ],
      "execution_count": 17,
      "outputs": [
        {
          "output_type": "execute_result",
          "data": {
            "text/plain": [
              "((3777, 100), (3777,))"
            ]
          },
          "metadata": {
            "tags": []
          },
          "execution_count": 17
        }
      ]
    },
    {
      "cell_type": "code",
      "metadata": {
        "id": "Y-TqD4SJsYrY",
        "colab": {
          "base_uri": "https://localhost:8080/"
        },
        "outputId": "5f883f41-3996-4169-ceb0-66a248893584"
      },
      "source": [
        "X_test.shape, Y_test.shape"
      ],
      "execution_count": 18,
      "outputs": [
        {
          "output_type": "execute_result",
          "data": {
            "text/plain": [
              "((3775, 100), (3775,))"
            ]
          },
          "metadata": {
            "tags": []
          },
          "execution_count": 18
        }
      ]
    },
    {
      "cell_type": "code",
      "metadata": {
        "id": "L8HNRbAWsYrb",
        "colab": {
          "base_uri": "https://localhost:8080/"
        },
        "outputId": "bce6c971-5818-4a9b-ee3c-7e62a69b0775"
      },
      "source": [
        "# reshaping the in 3D\n",
        "# for LSTM we have input shape as (n_x, m, T_x) -- 3D\n",
        "X_train=X_train.reshape(X_train.shape[0],X_train.shape[1],1)   #Shape ==> ((training_size - timestep-1),timestep, 1)\n",
        "X_test=X_test.reshape(X_test.shape[0],X_test.shape[1],1)\n",
        "print(X_train.shape)\n",
        "print(X_test.shape)"
      ],
      "execution_count": 19,
      "outputs": [
        {
          "output_type": "stream",
          "text": [
            "(3777, 100, 1)\n",
            "(3775, 100, 1)\n"
          ],
          "name": "stdout"
        }
      ]
    },
    {
      "cell_type": "code",
      "metadata": {
        "id": "5LYSh6ZtsYre"
      },
      "source": [
        "### Creating stack LSTM model\n",
        "from tensorflow.keras.models import Sequential\n",
        "from tensorflow.keras.layers import Dense\n",
        "from tensorflow.keras.layers import LSTM\n",
        "from tensorflow.keras.layers import Bidirectional"
      ],
      "execution_count": 20,
      "outputs": []
    },
    {
      "cell_type": "code",
      "metadata": {
        "id": "9ozp2cz0sYrg"
      },
      "source": [
        "\"\"\"\n",
        "TO UNDERSTAND THE LSTM INPUT/OUTPUT SHAPE ---\n",
        "https://medium.com/@shivajbd/understanding-input-and-output-shape-in-lstm-keras-c501ee95c65e\n",
        "\"\"\"\n",
        "\n",
        "\"\"\"\n",
        "TO UNDERSTAND RETURN SEQUENCES ---\n",
        "https://www.dlology.com/blog/how-to-use-return_state-or-return_sequences-in-keras/\n",
        "\n",
        "return sequences= True  gives the output for all the time steps\n",
        "if return sequences = False returns the putput of the last timestep  -- RNN layer will only return the last hidden state output a<T>\n",
        "\"\"\"\n",
        "\n",
        "\"\"\"\n",
        "STACKED LSTM ---\n",
        "https://machinelearningmastery.com/stacked-long-short-term-memory-networks/\n",
        "\"\"\"\n",
        "\n",
        "model =Sequential()\n",
        "model.add(Bidirectional(LSTM(50, return_sequences=True), input_shape=(X_train.shape[1],1)))\n",
        "model.add(Bidirectional(LSTM(50, return_sequences=True)))\n",
        "model.add(Bidirectional(LSTM(50, return_sequences=True)))\n",
        "model.add(Bidirectional(LSTM(50)))\n",
        "\n",
        "#model.add(LSTM(50, return_sequences= True,input_shape=(X_train.shape[1],1)))   #input shape ==>   100 timesteps and 1 feature\n",
        "#model.add(LSTM(50, return_sequences= True))\n",
        "##model.add(LSTM(50, return_sequences= True))\n",
        "#model.add(LSTM(50))\n",
        "model.add(Dense(1))\n",
        "model.compile(loss=\"mean_squared_error\", optimizer=\"adam\",metrics=[tf.keras.metrics.RootMeanSquaredError(\n",
        "    name=\"root_mean_squared_error\", dtype=None\n",
        ")])"
      ],
      "execution_count": 27,
      "outputs": []
    },
    {
      "cell_type": "code",
      "metadata": {
        "id": "6goVjs-GsYri",
        "colab": {
          "base_uri": "https://localhost:8080/"
        },
        "outputId": "d0e032dd-0f14-44f7-da94-ac5ffc298098"
      },
      "source": [
        "model.summary()\n",
        "\n",
        "#Summary shows the output shape of an LSTM\n",
        "\n",
        "#input shape of LSSTM ==> (Batch_size, timesteps, input_dims)\n",
        "#output shape of LSTM ==> (Batch_size, timesteps, number of units)      -- When return sequences is True\n",
        "#output shape of LSTM ==> (Batch_size,  number of units)      -- When return sequences is False"
      ],
      "execution_count": 28,
      "outputs": [
        {
          "output_type": "stream",
          "text": [
            "Model: \"sequential_1\"\n",
            "_________________________________________________________________\n",
            "Layer (type)                 Output Shape              Param #   \n",
            "=================================================================\n",
            "bidirectional_4 (Bidirection (None, 100, 100)          20800     \n",
            "_________________________________________________________________\n",
            "bidirectional_5 (Bidirection (None, 100, 100)          60400     \n",
            "_________________________________________________________________\n",
            "bidirectional_6 (Bidirection (None, 100, 100)          60400     \n",
            "_________________________________________________________________\n",
            "bidirectional_7 (Bidirection (None, 100)               60400     \n",
            "_________________________________________________________________\n",
            "dense_1 (Dense)              (None, 1)                 101       \n",
            "=================================================================\n",
            "Total params: 202,101\n",
            "Trainable params: 202,101\n",
            "Non-trainable params: 0\n",
            "_________________________________________________________________\n"
          ],
          "name": "stdout"
        }
      ]
    },
    {
      "cell_type": "code",
      "metadata": {
        "id": "nVMsqAs2aXBB"
      },
      "source": [
        "#Loading previously trained model\n",
        "model = tf.keras.models.load_model('/content/drive/My Drive/Colab Notebooks/Share Price prediction/Saved model/with bidirectional RNN - trained')\n"
      ],
      "execution_count": null,
      "outputs": []
    },
    {
      "cell_type": "code",
      "metadata": {
        "id": "yors6BARHDgX"
      },
      "source": [
        "#Creating checkpoint to store weights\n",
        "import os\n",
        "#checkpoint_path = \"D:\\Python codes\\Share price prediction\\Trained weights\\Bidirectional RNN/cp.ckpt\"      #Run and save on computert\n",
        "checkpoint_path = \"/content/drive/My Drive/Colab Notebooks/Share Price prediction/Weights/cp.ckpt\"                                                                 #Save on drive\n",
        "checkpoint_dir = os.path.dirname(checkpoint_path)\n",
        "\n",
        "# Create a callback that saves the model's weights\n",
        "cp_callback = tf.keras.callbacks.ModelCheckpoint(filepath=checkpoint_path,\n",
        "                                                 save_weights_only=True,\n",
        "                                                 verbose=1)"
      ],
      "execution_count": 29,
      "outputs": []
    },
    {
      "cell_type": "code",
      "metadata": {
        "id": "_YltMwuqsYrl",
        "colab": {
          "base_uri": "https://localhost:8080/"
        },
        "outputId": "947ac2ce-dbf6-4bf7-ba5a-e8cddf6d246b"
      },
      "source": [
        "history=model.fit(X_train,Y_train,validation_data =(X_test, Y_test), \n",
        "                    epochs =50, \n",
        "                    batch_size=32,\n",
        "                   verbose=1,\n",
        "                    callbacks=[cp_callback])"
      ],
      "execution_count": 30,
      "outputs": [
        {
          "output_type": "stream",
          "text": [
            "Epoch 1/50\n",
            "118/119 [============================>.] - ETA: 0s - loss: 0.0051 - root_mean_squared_error: 0.0715\n",
            "Epoch 00001: saving model to /content/drive/My Drive/Colab Notebooks/Share Price prediction/Weights/cp.ckpt\n",
            "119/119 [==============================] - 9s 75ms/step - loss: 0.0051 - root_mean_squared_error: 0.0715 - val_loss: 5.2730e-04 - val_root_mean_squared_error: 0.0230\n",
            "Epoch 2/50\n",
            "119/119 [==============================] - ETA: 0s - loss: 4.4767e-04 - root_mean_squared_error: 0.0212\n",
            "Epoch 00002: saving model to /content/drive/My Drive/Colab Notebooks/Share Price prediction/Weights/cp.ckpt\n",
            "119/119 [==============================] - 6s 51ms/step - loss: 4.4767e-04 - root_mean_squared_error: 0.0212 - val_loss: 0.0016 - val_root_mean_squared_error: 0.0403\n",
            "Epoch 3/50\n",
            "118/119 [============================>.] - ETA: 0s - loss: 4.8787e-04 - root_mean_squared_error: 0.0221\n",
            "Epoch 00003: saving model to /content/drive/My Drive/Colab Notebooks/Share Price prediction/Weights/cp.ckpt\n",
            "119/119 [==============================] - 6s 53ms/step - loss: 4.8775e-04 - root_mean_squared_error: 0.0221 - val_loss: 3.2063e-04 - val_root_mean_squared_error: 0.0179\n",
            "Epoch 4/50\n",
            "119/119 [==============================] - ETA: 0s - loss: 2.7435e-04 - root_mean_squared_error: 0.0166\n",
            "Epoch 00004: saving model to /content/drive/My Drive/Colab Notebooks/Share Price prediction/Weights/cp.ckpt\n",
            "119/119 [==============================] - 6s 52ms/step - loss: 2.7435e-04 - root_mean_squared_error: 0.0166 - val_loss: 4.8992e-04 - val_root_mean_squared_error: 0.0221\n",
            "Epoch 5/50\n",
            "119/119 [==============================] - ETA: 0s - loss: 3.4003e-04 - root_mean_squared_error: 0.0184\n",
            "Epoch 00005: saving model to /content/drive/My Drive/Colab Notebooks/Share Price prediction/Weights/cp.ckpt\n",
            "119/119 [==============================] - 6s 50ms/step - loss: 3.4003e-04 - root_mean_squared_error: 0.0184 - val_loss: 3.3112e-04 - val_root_mean_squared_error: 0.0182\n",
            "Epoch 6/50\n",
            "119/119 [==============================] - ETA: 0s - loss: 2.6538e-04 - root_mean_squared_error: 0.0163\n",
            "Epoch 00006: saving model to /content/drive/My Drive/Colab Notebooks/Share Price prediction/Weights/cp.ckpt\n",
            "119/119 [==============================] - 7s 55ms/step - loss: 2.6538e-04 - root_mean_squared_error: 0.0163 - val_loss: 3.0889e-04 - val_root_mean_squared_error: 0.0176\n",
            "Epoch 7/50\n",
            "118/119 [============================>.] - ETA: 0s - loss: 2.6119e-04 - root_mean_squared_error: 0.0162\n",
            "Epoch 00007: saving model to /content/drive/My Drive/Colab Notebooks/Share Price prediction/Weights/cp.ckpt\n",
            "119/119 [==============================] - 6s 53ms/step - loss: 2.6112e-04 - root_mean_squared_error: 0.0162 - val_loss: 3.2518e-04 - val_root_mean_squared_error: 0.0180\n",
            "Epoch 8/50\n",
            "119/119 [==============================] - ETA: 0s - loss: 3.4314e-04 - root_mean_squared_error: 0.0185\n",
            "Epoch 00008: saving model to /content/drive/My Drive/Colab Notebooks/Share Price prediction/Weights/cp.ckpt\n",
            "119/119 [==============================] - 6s 53ms/step - loss: 3.4314e-04 - root_mean_squared_error: 0.0185 - val_loss: 4.5445e-04 - val_root_mean_squared_error: 0.0213\n",
            "Epoch 9/50\n",
            "119/119 [==============================] - ETA: 0s - loss: 2.6775e-04 - root_mean_squared_error: 0.0164\n",
            "Epoch 00009: saving model to /content/drive/My Drive/Colab Notebooks/Share Price prediction/Weights/cp.ckpt\n",
            "119/119 [==============================] - 6s 53ms/step - loss: 2.6775e-04 - root_mean_squared_error: 0.0164 - val_loss: 2.0149e-04 - val_root_mean_squared_error: 0.0142\n",
            "Epoch 10/50\n",
            "118/119 [============================>.] - ETA: 0s - loss: 2.9046e-04 - root_mean_squared_error: 0.0170\n",
            "Epoch 00010: saving model to /content/drive/My Drive/Colab Notebooks/Share Price prediction/Weights/cp.ckpt\n",
            "119/119 [==============================] - 6s 55ms/step - loss: 2.9038e-04 - root_mean_squared_error: 0.0170 - val_loss: 1.9324e-04 - val_root_mean_squared_error: 0.0139\n",
            "Epoch 11/50\n",
            "118/119 [============================>.] - ETA: 0s - loss: 2.9475e-04 - root_mean_squared_error: 0.0172\n",
            "Epoch 00011: saving model to /content/drive/My Drive/Colab Notebooks/Share Price prediction/Weights/cp.ckpt\n",
            "119/119 [==============================] - 6s 54ms/step - loss: 2.9478e-04 - root_mean_squared_error: 0.0172 - val_loss: 4.4350e-04 - val_root_mean_squared_error: 0.0211\n",
            "Epoch 12/50\n",
            "119/119 [==============================] - ETA: 0s - loss: 2.0574e-04 - root_mean_squared_error: 0.0143\n",
            "Epoch 00012: saving model to /content/drive/My Drive/Colab Notebooks/Share Price prediction/Weights/cp.ckpt\n",
            "119/119 [==============================] - 6s 54ms/step - loss: 2.0574e-04 - root_mean_squared_error: 0.0143 - val_loss: 2.4594e-04 - val_root_mean_squared_error: 0.0157\n",
            "Epoch 13/50\n",
            "119/119 [==============================] - ETA: 0s - loss: 1.6888e-04 - root_mean_squared_error: 0.0130\n",
            "Epoch 00013: saving model to /content/drive/My Drive/Colab Notebooks/Share Price prediction/Weights/cp.ckpt\n",
            "119/119 [==============================] - 7s 55ms/step - loss: 1.6888e-04 - root_mean_squared_error: 0.0130 - val_loss: 3.4417e-04 - val_root_mean_squared_error: 0.0186\n",
            "Epoch 14/50\n",
            "119/119 [==============================] - ETA: 0s - loss: 2.1227e-04 - root_mean_squared_error: 0.0146\n",
            "Epoch 00014: saving model to /content/drive/My Drive/Colab Notebooks/Share Price prediction/Weights/cp.ckpt\n",
            "119/119 [==============================] - 7s 56ms/step - loss: 2.1227e-04 - root_mean_squared_error: 0.0146 - val_loss: 2.1197e-04 - val_root_mean_squared_error: 0.0146\n",
            "Epoch 15/50\n",
            "119/119 [==============================] - ETA: 0s - loss: 2.2257e-04 - root_mean_squared_error: 0.0149\n",
            "Epoch 00015: saving model to /content/drive/My Drive/Colab Notebooks/Share Price prediction/Weights/cp.ckpt\n",
            "119/119 [==============================] - 7s 58ms/step - loss: 2.2257e-04 - root_mean_squared_error: 0.0149 - val_loss: 3.5714e-04 - val_root_mean_squared_error: 0.0189\n",
            "Epoch 16/50\n",
            "119/119 [==============================] - ETA: 0s - loss: 1.6317e-04 - root_mean_squared_error: 0.0128\n",
            "Epoch 00016: saving model to /content/drive/My Drive/Colab Notebooks/Share Price prediction/Weights/cp.ckpt\n",
            "119/119 [==============================] - 7s 56ms/step - loss: 1.6317e-04 - root_mean_squared_error: 0.0128 - val_loss: 1.4685e-04 - val_root_mean_squared_error: 0.0121\n",
            "Epoch 17/50\n",
            "119/119 [==============================] - ETA: 0s - loss: 1.3603e-04 - root_mean_squared_error: 0.0117\n",
            "Epoch 00017: saving model to /content/drive/My Drive/Colab Notebooks/Share Price prediction/Weights/cp.ckpt\n",
            "119/119 [==============================] - 7s 58ms/step - loss: 1.3603e-04 - root_mean_squared_error: 0.0117 - val_loss: 1.2227e-04 - val_root_mean_squared_error: 0.0111\n",
            "Epoch 18/50\n",
            "119/119 [==============================] - ETA: 0s - loss: 1.3664e-04 - root_mean_squared_error: 0.0117\n",
            "Epoch 00018: saving model to /content/drive/My Drive/Colab Notebooks/Share Price prediction/Weights/cp.ckpt\n",
            "119/119 [==============================] - 7s 55ms/step - loss: 1.3664e-04 - root_mean_squared_error: 0.0117 - val_loss: 3.0490e-04 - val_root_mean_squared_error: 0.0175\n",
            "Epoch 19/50\n",
            "118/119 [============================>.] - ETA: 0s - loss: 1.7141e-04 - root_mean_squared_error: 0.0131\n",
            "Epoch 00019: saving model to /content/drive/My Drive/Colab Notebooks/Share Price prediction/Weights/cp.ckpt\n",
            "119/119 [==============================] - 7s 56ms/step - loss: 1.7137e-04 - root_mean_squared_error: 0.0131 - val_loss: 2.0544e-04 - val_root_mean_squared_error: 0.0143\n",
            "Epoch 20/50\n",
            "119/119 [==============================] - ETA: 0s - loss: 1.3553e-04 - root_mean_squared_error: 0.0116\n",
            "Epoch 00020: saving model to /content/drive/My Drive/Colab Notebooks/Share Price prediction/Weights/cp.ckpt\n",
            "119/119 [==============================] - 7s 57ms/step - loss: 1.3553e-04 - root_mean_squared_error: 0.0116 - val_loss: 1.3637e-04 - val_root_mean_squared_error: 0.0117\n",
            "Epoch 21/50\n",
            "119/119 [==============================] - ETA: 0s - loss: 1.2595e-04 - root_mean_squared_error: 0.0112\n",
            "Epoch 00021: saving model to /content/drive/My Drive/Colab Notebooks/Share Price prediction/Weights/cp.ckpt\n",
            "119/119 [==============================] - 7s 56ms/step - loss: 1.2595e-04 - root_mean_squared_error: 0.0112 - val_loss: 1.2348e-04 - val_root_mean_squared_error: 0.0111\n",
            "Epoch 22/50\n",
            "119/119 [==============================] - ETA: 0s - loss: 1.3033e-04 - root_mean_squared_error: 0.0114\n",
            "Epoch 00022: saving model to /content/drive/My Drive/Colab Notebooks/Share Price prediction/Weights/cp.ckpt\n",
            "119/119 [==============================] - 7s 58ms/step - loss: 1.3033e-04 - root_mean_squared_error: 0.0114 - val_loss: 7.8370e-04 - val_root_mean_squared_error: 0.0280\n",
            "Epoch 23/50\n",
            "119/119 [==============================] - ETA: 0s - loss: 1.5176e-04 - root_mean_squared_error: 0.0123\n",
            "Epoch 00023: saving model to /content/drive/My Drive/Colab Notebooks/Share Price prediction/Weights/cp.ckpt\n",
            "119/119 [==============================] - 7s 56ms/step - loss: 1.5176e-04 - root_mean_squared_error: 0.0123 - val_loss: 2.1131e-04 - val_root_mean_squared_error: 0.0145\n",
            "Epoch 24/50\n",
            "119/119 [==============================] - ETA: 0s - loss: 1.2864e-04 - root_mean_squared_error: 0.0113\n",
            "Epoch 00024: saving model to /content/drive/My Drive/Colab Notebooks/Share Price prediction/Weights/cp.ckpt\n",
            "119/119 [==============================] - 7s 56ms/step - loss: 1.2864e-04 - root_mean_squared_error: 0.0113 - val_loss: 3.5634e-04 - val_root_mean_squared_error: 0.0189\n",
            "Epoch 25/50\n",
            "119/119 [==============================] - ETA: 0s - loss: 1.2030e-04 - root_mean_squared_error: 0.0110\n",
            "Epoch 00025: saving model to /content/drive/My Drive/Colab Notebooks/Share Price prediction/Weights/cp.ckpt\n",
            "119/119 [==============================] - 6s 54ms/step - loss: 1.2030e-04 - root_mean_squared_error: 0.0110 - val_loss: 1.3791e-04 - val_root_mean_squared_error: 0.0117\n",
            "Epoch 26/50\n",
            "119/119 [==============================] - ETA: 0s - loss: 1.1973e-04 - root_mean_squared_error: 0.0109\n",
            "Epoch 00026: saving model to /content/drive/My Drive/Colab Notebooks/Share Price prediction/Weights/cp.ckpt\n",
            "119/119 [==============================] - 7s 55ms/step - loss: 1.1973e-04 - root_mean_squared_error: 0.0109 - val_loss: 2.1665e-04 - val_root_mean_squared_error: 0.0147\n",
            "Epoch 27/50\n",
            "118/119 [============================>.] - ETA: 0s - loss: 1.2551e-04 - root_mean_squared_error: 0.0112\n",
            "Epoch 00027: saving model to /content/drive/My Drive/Colab Notebooks/Share Price prediction/Weights/cp.ckpt\n",
            "119/119 [==============================] - 7s 56ms/step - loss: 1.2548e-04 - root_mean_squared_error: 0.0112 - val_loss: 8.1457e-05 - val_root_mean_squared_error: 0.0090\n",
            "Epoch 28/50\n",
            "119/119 [==============================] - ETA: 0s - loss: 9.8168e-05 - root_mean_squared_error: 0.0099\n",
            "Epoch 00028: saving model to /content/drive/My Drive/Colab Notebooks/Share Price prediction/Weights/cp.ckpt\n",
            "119/119 [==============================] - 7s 55ms/step - loss: 9.8168e-05 - root_mean_squared_error: 0.0099 - val_loss: 2.9102e-04 - val_root_mean_squared_error: 0.0171\n",
            "Epoch 29/50\n",
            "119/119 [==============================] - ETA: 0s - loss: 1.2907e-04 - root_mean_squared_error: 0.0114\n",
            "Epoch 00029: saving model to /content/drive/My Drive/Colab Notebooks/Share Price prediction/Weights/cp.ckpt\n",
            "119/119 [==============================] - 7s 56ms/step - loss: 1.2907e-04 - root_mean_squared_error: 0.0114 - val_loss: 2.0262e-04 - val_root_mean_squared_error: 0.0142\n",
            "Epoch 30/50\n",
            "118/119 [============================>.] - ETA: 0s - loss: 1.0618e-04 - root_mean_squared_error: 0.0103\n",
            "Epoch 00030: saving model to /content/drive/My Drive/Colab Notebooks/Share Price prediction/Weights/cp.ckpt\n",
            "119/119 [==============================] - 6s 54ms/step - loss: 1.0616e-04 - root_mean_squared_error: 0.0103 - val_loss: 8.3333e-05 - val_root_mean_squared_error: 0.0091\n",
            "Epoch 31/50\n",
            "119/119 [==============================] - ETA: 0s - loss: 1.3421e-04 - root_mean_squared_error: 0.0116\n",
            "Epoch 00031: saving model to /content/drive/My Drive/Colab Notebooks/Share Price prediction/Weights/cp.ckpt\n",
            "119/119 [==============================] - 6s 53ms/step - loss: 1.3421e-04 - root_mean_squared_error: 0.0116 - val_loss: 1.3645e-04 - val_root_mean_squared_error: 0.0117\n",
            "Epoch 32/50\n",
            "119/119 [==============================] - ETA: 0s - loss: 1.0127e-04 - root_mean_squared_error: 0.0101\n",
            "Epoch 00032: saving model to /content/drive/My Drive/Colab Notebooks/Share Price prediction/Weights/cp.ckpt\n",
            "119/119 [==============================] - 7s 56ms/step - loss: 1.0127e-04 - root_mean_squared_error: 0.0101 - val_loss: 0.0011 - val_root_mean_squared_error: 0.0324\n",
            "Epoch 33/50\n",
            "118/119 [============================>.] - ETA: 0s - loss: 2.1152e-04 - root_mean_squared_error: 0.0145\n",
            "Epoch 00033: saving model to /content/drive/My Drive/Colab Notebooks/Share Price prediction/Weights/cp.ckpt\n",
            "119/119 [==============================] - 7s 55ms/step - loss: 2.1165e-04 - root_mean_squared_error: 0.0145 - val_loss: 2.5202e-04 - val_root_mean_squared_error: 0.0159\n",
            "Epoch 34/50\n",
            "119/119 [==============================] - ETA: 0s - loss: 1.2028e-04 - root_mean_squared_error: 0.0110\n",
            "Epoch 00034: saving model to /content/drive/My Drive/Colab Notebooks/Share Price prediction/Weights/cp.ckpt\n",
            "119/119 [==============================] - 6s 53ms/step - loss: 1.2028e-04 - root_mean_squared_error: 0.0110 - val_loss: 1.1560e-04 - val_root_mean_squared_error: 0.0108\n",
            "Epoch 35/50\n",
            "119/119 [==============================] - ETA: 0s - loss: 8.9848e-05 - root_mean_squared_error: 0.0095\n",
            "Epoch 00035: saving model to /content/drive/My Drive/Colab Notebooks/Share Price prediction/Weights/cp.ckpt\n",
            "119/119 [==============================] - 7s 55ms/step - loss: 8.9848e-05 - root_mean_squared_error: 0.0095 - val_loss: 9.8444e-05 - val_root_mean_squared_error: 0.0099\n",
            "Epoch 36/50\n",
            "119/119 [==============================] - ETA: 0s - loss: 8.5701e-05 - root_mean_squared_error: 0.0093\n",
            "Epoch 00036: saving model to /content/drive/My Drive/Colab Notebooks/Share Price prediction/Weights/cp.ckpt\n",
            "119/119 [==============================] - 7s 55ms/step - loss: 8.5701e-05 - root_mean_squared_error: 0.0093 - val_loss: 0.0065 - val_root_mean_squared_error: 0.0804\n",
            "Epoch 37/50\n",
            "118/119 [============================>.] - ETA: 0s - loss: 6.3445e-04 - root_mean_squared_error: 0.0252\n",
            "Epoch 00037: saving model to /content/drive/My Drive/Colab Notebooks/Share Price prediction/Weights/cp.ckpt\n",
            "119/119 [==============================] - 6s 54ms/step - loss: 6.3428e-04 - root_mean_squared_error: 0.0252 - val_loss: 1.3356e-04 - val_root_mean_squared_error: 0.0116\n",
            "Epoch 38/50\n",
            "118/119 [============================>.] - ETA: 0s - loss: 1.3084e-04 - root_mean_squared_error: 0.0114\n",
            "Epoch 00038: saving model to /content/drive/My Drive/Colab Notebooks/Share Price prediction/Weights/cp.ckpt\n",
            "119/119 [==============================] - 6s 54ms/step - loss: 1.3085e-04 - root_mean_squared_error: 0.0114 - val_loss: 9.3510e-05 - val_root_mean_squared_error: 0.0097\n",
            "Epoch 39/50\n",
            "118/119 [============================>.] - ETA: 0s - loss: 7.8011e-05 - root_mean_squared_error: 0.0088\n",
            "Epoch 00039: saving model to /content/drive/My Drive/Colab Notebooks/Share Price prediction/Weights/cp.ckpt\n",
            "119/119 [==============================] - 6s 54ms/step - loss: 7.8073e-05 - root_mean_squared_error: 0.0088 - val_loss: 4.6716e-04 - val_root_mean_squared_error: 0.0216\n",
            "Epoch 40/50\n",
            "119/119 [==============================] - ETA: 0s - loss: 9.6218e-05 - root_mean_squared_error: 0.0098\n",
            "Epoch 00040: saving model to /content/drive/My Drive/Colab Notebooks/Share Price prediction/Weights/cp.ckpt\n",
            "119/119 [==============================] - 7s 56ms/step - loss: 9.6218e-05 - root_mean_squared_error: 0.0098 - val_loss: 7.8748e-05 - val_root_mean_squared_error: 0.0089\n",
            "Epoch 41/50\n",
            "119/119 [==============================] - ETA: 0s - loss: 8.2539e-05 - root_mean_squared_error: 0.0091\n",
            "Epoch 00041: saving model to /content/drive/My Drive/Colab Notebooks/Share Price prediction/Weights/cp.ckpt\n",
            "119/119 [==============================] - 6s 54ms/step - loss: 8.2539e-05 - root_mean_squared_error: 0.0091 - val_loss: 6.7729e-05 - val_root_mean_squared_error: 0.0082\n",
            "Epoch 42/50\n",
            "119/119 [==============================] - ETA: 0s - loss: 8.6478e-05 - root_mean_squared_error: 0.0093\n",
            "Epoch 00042: saving model to /content/drive/My Drive/Colab Notebooks/Share Price prediction/Weights/cp.ckpt\n",
            "119/119 [==============================] - 6s 54ms/step - loss: 8.6478e-05 - root_mean_squared_error: 0.0093 - val_loss: 2.5638e-04 - val_root_mean_squared_error: 0.0160\n",
            "Epoch 43/50\n",
            "118/119 [============================>.] - ETA: 0s - loss: 9.0450e-05 - root_mean_squared_error: 0.0095\n",
            "Epoch 00043: saving model to /content/drive/My Drive/Colab Notebooks/Share Price prediction/Weights/cp.ckpt\n",
            "119/119 [==============================] - 7s 56ms/step - loss: 9.0469e-05 - root_mean_squared_error: 0.0095 - val_loss: 2.4084e-04 - val_root_mean_squared_error: 0.0155\n",
            "Epoch 44/50\n",
            "118/119 [============================>.] - ETA: 0s - loss: 8.3843e-05 - root_mean_squared_error: 0.0092\n",
            "Epoch 00044: saving model to /content/drive/My Drive/Colab Notebooks/Share Price prediction/Weights/cp.ckpt\n",
            "119/119 [==============================] - 7s 58ms/step - loss: 8.3823e-05 - root_mean_squared_error: 0.0092 - val_loss: 2.6605e-04 - val_root_mean_squared_error: 0.0163\n",
            "Epoch 45/50\n",
            "119/119 [==============================] - ETA: 0s - loss: 9.1198e-05 - root_mean_squared_error: 0.0095\n",
            "Epoch 00045: saving model to /content/drive/My Drive/Colab Notebooks/Share Price prediction/Weights/cp.ckpt\n",
            "119/119 [==============================] - 7s 55ms/step - loss: 9.1198e-05 - root_mean_squared_error: 0.0095 - val_loss: 6.5484e-05 - val_root_mean_squared_error: 0.0081\n",
            "Epoch 46/50\n",
            "119/119 [==============================] - ETA: 0s - loss: 7.2247e-05 - root_mean_squared_error: 0.0085\n",
            "Epoch 00046: saving model to /content/drive/My Drive/Colab Notebooks/Share Price prediction/Weights/cp.ckpt\n",
            "119/119 [==============================] - 7s 56ms/step - loss: 7.2247e-05 - root_mean_squared_error: 0.0085 - val_loss: 8.2371e-05 - val_root_mean_squared_error: 0.0091\n",
            "Epoch 47/50\n",
            "119/119 [==============================] - ETA: 0s - loss: 7.7438e-05 - root_mean_squared_error: 0.0088\n",
            "Epoch 00047: saving model to /content/drive/My Drive/Colab Notebooks/Share Price prediction/Weights/cp.ckpt\n",
            "119/119 [==============================] - 7s 56ms/step - loss: 7.7438e-05 - root_mean_squared_error: 0.0088 - val_loss: 3.7451e-04 - val_root_mean_squared_error: 0.0194\n",
            "Epoch 48/50\n",
            "119/119 [==============================] - ETA: 0s - loss: 9.6471e-05 - root_mean_squared_error: 0.0098\n",
            "Epoch 00048: saving model to /content/drive/My Drive/Colab Notebooks/Share Price prediction/Weights/cp.ckpt\n",
            "119/119 [==============================] - 7s 56ms/step - loss: 9.6471e-05 - root_mean_squared_error: 0.0098 - val_loss: 1.7905e-04 - val_root_mean_squared_error: 0.0134\n",
            "Epoch 49/50\n",
            "119/119 [==============================] - ETA: 0s - loss: 8.1159e-05 - root_mean_squared_error: 0.0090\n",
            "Epoch 00049: saving model to /content/drive/My Drive/Colab Notebooks/Share Price prediction/Weights/cp.ckpt\n",
            "119/119 [==============================] - 6s 54ms/step - loss: 8.1159e-05 - root_mean_squared_error: 0.0090 - val_loss: 8.2333e-05 - val_root_mean_squared_error: 0.0091\n",
            "Epoch 50/50\n",
            "118/119 [============================>.] - ETA: 0s - loss: 8.2292e-05 - root_mean_squared_error: 0.0091\n",
            "Epoch 00050: saving model to /content/drive/My Drive/Colab Notebooks/Share Price prediction/Weights/cp.ckpt\n",
            "119/119 [==============================] - 7s 56ms/step - loss: 8.2275e-05 - root_mean_squared_error: 0.0091 - val_loss: 7.7584e-05 - val_root_mean_squared_error: 0.0088\n"
          ],
          "name": "stdout"
        }
      ]
    },
    {
      "cell_type": "code",
      "metadata": {
        "id": "qlXKl48QIdyD",
        "colab": {
          "base_uri": "https://localhost:8080/",
          "height": 53
        },
        "outputId": "8ac0a39f-f227-4b9f-edba-8b73e4130122"
      },
      "source": [
        "# Save the entire model as a SavedModel.\n",
        "!mkdir -p saved_model\n",
        "model.save('/content/drive/My Drive/Colab Notebooks/Share Price prediction/Saved model/with bidirectional RNN - trained') \n",
        "\n",
        "#Models saved in this format can be restored using\n",
        "# tf.keras.models.load_model\n",
        "\n",
        "'''\n",
        "new_model = tf.keras.models.load_model('\\Path')\n",
        "\n",
        "# Check its architecture\n",
        "new_model.summary()\n",
        "'''"
      ],
      "execution_count": null,
      "outputs": [
        {
          "output_type": "stream",
          "text": [
            "INFO:tensorflow:Assets written to: /content/drive/My Drive/Colab Notebooks/Share Price prediction/Saved model/with bidirectional RNN - trained/assets\n"
          ],
          "name": "stdout"
        },
        {
          "output_type": "execute_result",
          "data": {
            "application/vnd.google.colaboratory.intrinsic+json": {
              "type": "string"
            },
            "text/plain": [
              "\"\\nnew_model = tf.keras.models.load_model('\\\\Path')\\n\\n# Check its architecture\\nnew_model.summary()\\n\""
            ]
          },
          "metadata": {
            "tags": []
          },
          "execution_count": 82
        }
      ]
    },
    {
      "cell_type": "code",
      "metadata": {
        "id": "waODldMyI_n8",
        "colab": {
          "base_uri": "https://localhost:8080/",
          "height": 53
        },
        "outputId": "b2503400-6b8d-47af-a6e3-b22b4c428c2d"
      },
      "source": [
        "'''\n",
        "# Create and train a new model instance.\n",
        "model = create_model()\n",
        "model.fit(train_images, train_labels, epochs=5)\n",
        "'''\n",
        "# Save the entire model to a HDF5 file.\n",
        "# The '.h5' extension indicates that the model should be saved to HDF5.\n",
        "model.save('my_model.h5') \n",
        "'''\n",
        "# Recreate the exact same model, including its weights and the optimizer\n",
        "new_model = tf.keras.models.load_model('my_model.h5')\n",
        "\n",
        "# Show the model architecture\n",
        "new_model.summary()\n",
        "'''"
      ],
      "execution_count": 31,
      "outputs": [
        {
          "output_type": "execute_result",
          "data": {
            "application/vnd.google.colaboratory.intrinsic+json": {
              "type": "string"
            },
            "text/plain": [
              "\"\\n# Recreate the exact same model, including its weights and the optimizer\\nnew_model = tf.keras.models.load_model('my_model.h5')\\n\\n# Show the model architecture\\nnew_model.summary()\\n\""
            ]
          },
          "metadata": {
            "tags": []
          },
          "execution_count": 31
        }
      ]
    },
    {
      "cell_type": "code",
      "metadata": {
        "id": "XQ-RJVmfHyfX",
        "colab": {
          "base_uri": "https://localhost:8080/"
        },
        "outputId": "d8bec401-098e-49ed-f72d-6e84967961b5"
      },
      "source": [
        "# Loads the weights\n",
        "model.load_weights(checkpoint_path)"
      ],
      "execution_count": null,
      "outputs": [
        {
          "output_type": "execute_result",
          "data": {
            "text/plain": [
              "<tensorflow.python.training.tracking.util.CheckpointLoadStatus at 0x7fa0fb3e67b8>"
            ]
          },
          "metadata": {
            "tags": []
          },
          "execution_count": 27
        }
      ]
    },
    {
      "cell_type": "code",
      "metadata": {
        "id": "AnZtb1vFsYrn"
      },
      "source": [
        "# Prediction\n",
        "train_predict=model.predict(X_train)\n",
        "test_predict= model.predict(X_test)"
      ],
      "execution_count": 32,
      "outputs": []
    },
    {
      "cell_type": "code",
      "metadata": {
        "id": "-uq99y4UsYrp"
      },
      "source": [
        "# Scale back the predictions to original values (Initally we had scaled down to range 0-1)\n",
        "train_predict =sc.inverse_transform(train_predict)\n",
        "test_predict =sc.inverse_transform(test_predict)"
      ],
      "execution_count": 33,
      "outputs": []
    },
    {
      "cell_type": "code",
      "metadata": {
        "id": "9gUudyw0sYrs",
        "colab": {
          "base_uri": "https://localhost:8080/"
        },
        "outputId": "0ac57e57-361e-47cc-cd25-070481ace1e4"
      },
      "source": [
        "## Performance Metrics (RMSE)\n",
        "import math \n",
        "from sklearn.metrics import mean_squared_error\n",
        "math.sqrt(mean_squared_error(sc.inverse_transform(Y_train.reshape(-1,1)),train_predict))"
      ],
      "execution_count": 34,
      "outputs": [
        {
          "output_type": "execute_result",
          "data": {
            "text/plain": [
              "17.28400068466778"
            ]
          },
          "metadata": {
            "tags": []
          },
          "execution_count": 34
        }
      ]
    },
    {
      "cell_type": "code",
      "metadata": {
        "id": "X4Vc3aFvsYru",
        "colab": {
          "base_uri": "https://localhost:8080/"
        },
        "outputId": "af5d06f7-77eb-46be-afbd-c39796b6beba"
      },
      "source": [
        "## Test data RMSE\n",
        "math.sqrt(mean_squared_error(sc.inverse_transform(Y_test.reshape(-1,1)),test_predict))"
      ],
      "execution_count": 35,
      "outputs": [
        {
          "output_type": "execute_result",
          "data": {
            "text/plain": [
              "18.46552267610302"
            ]
          },
          "metadata": {
            "tags": []
          },
          "execution_count": 35
        }
      ]
    },
    {
      "cell_type": "code",
      "metadata": {
        "id": "eAItg8S_sYrw"
      },
      "source": [
        "#len(train_predict)\n",
        "dates=np.array(df.index)"
      ],
      "execution_count": 36,
      "outputs": []
    },
    {
      "cell_type": "code",
      "metadata": {
        "id": "gPZJ7ZZ1sYry",
        "colab": {
          "base_uri": "https://localhost:8080/",
          "height": 865
        },
        "outputId": "1c8b4604-8d1e-416c-df71-20bbd26812fa"
      },
      "source": [
        "## Plotting\n",
        "plt.figure(figsize=(16,6))\n",
        "look_back=100\n",
        "# Shift train predictions for plotting\n",
        "trainplot=np.empty_like(df2)\n",
        "trainplot[:, :] =np.nan\n",
        "trainplot[look_back:len(train_predict)+look_back, :] = train_predict   \n",
        "print(\"train end at \",len(train_predict)+look_back)\n",
        "\n",
        "# Shift test predictions for plotting\n",
        "testplot=np.empty_like(df2)\n",
        "testplot[:, :] =np.nan\n",
        "\n",
        "print(\"test start at\",len(train_predict)+2*look_back+1)\n",
        "print(\"test end at\",len(df2)-1)\n",
        "print(\"Test length\",len(df2)-1-(len(train_predict)+2*look_back+1))\n",
        "print(\"The shape of X_test\",X_test.shape[0])\n",
        "\n",
        "testplot[look_back:len(test_predict)+look_back, :] = test_predict     #For two share\n",
        "#testplot[len(train_predict)+2*look_back+1:len(df2)-1, :] = test_predict        \n",
        "#2*look_back covers the previous the previous 100 timesteps data included in training/testing the model\n",
        "# For testing the data will come from (len(train_predict+look_back) : len(train_predict+2*look_back) ) \n",
        "#==> the first prediction will come at [len(train_predict)+2*look_back+1]\n",
        "\n",
        "# Plotting baseline and predictions\n",
        "#%matplotlib tk\n",
        "#%matplotlib qt\n",
        "plt.figure(figsize=(16,6))\n",
        "plt.plot(dates,sc.inverse_transform(df2), linestyle='dashed',linewidth=3,label=\"Actual price of Asian Paints\")\n",
        "plt.plot(dates,trainplot,linewidth=3,label=\"Data used for training the AI model\")\n",
        "#plt.plot(dates,testplot,linewidth=3, label =\"Predicted Price of BataIndia\")\n",
        "plt.xlabel('Time')\n",
        "plt.ylabel('Bata-India Share Price')\n",
        "plt.legend()\n",
        "plt.grid()\n",
        "plt.show()\n",
        "\n",
        "plt.figure(figsize=(16,6))\n",
        "plt.plot(dates[2:],sc.inverse_transform(dfv2), linestyle='dashed',linewidth=3,label=\"Actual price of Hindustan Unilever\")\n",
        "plt.plot(dates,testplot,linewidth=3, label =\"Predicted Price of BataIndia\")\n",
        "plt.xlabel('Time')\n",
        "plt.ylabel('Bata-India Share Price')\n",
        "plt.legend()\n",
        "plt.grid()\n",
        "plt.show()"
      ],
      "execution_count": 37,
      "outputs": [
        {
          "output_type": "stream",
          "text": [
            "train end at  3877\n",
            "test start at 3978\n",
            "test end at 3877\n",
            "Test length -101\n",
            "The shape of X_test 3775\n"
          ],
          "name": "stdout"
        },
        {
          "output_type": "display_data",
          "data": {
            "text/plain": [
              "<Figure size 1152x432 with 0 Axes>"
            ]
          },
          "metadata": {
            "tags": []
          }
        },
        {
          "output_type": "display_data",
          "data": {
            "image/png": "[encoded data removed]",
            "text/plain": [
              "<Figure size 1152x432 with 1 Axes>"
            ]
          },
          "metadata": {
            "tags": [],
            "needs_background": "light"
          }
        },
        {
          "output_type": "display_data",
          "data": {
            "image/png": "[encoded data removed]",
            "text/plain": [
              "<Figure size 1152x432 with 1 Axes>"
            ]
          },
          "metadata": {
            "tags": [],
            "needs_background": "light"
          }
        }
      ]
    },
    {
      "cell_type": "code",
      "metadata": {
        "id": "sRWUAAObsYr0"
      },
      "source": [
        "#test_predict"
      ],
      "execution_count": null,
      "outputs": []
    },
    {
      "cell_type": "code",
      "metadata": {
        "id": "IOLzE1_nsYr3",
        "colab": {
          "base_uri": "https://localhost:8080/"
        },
        "outputId": "9f57a0e5-05b8-457d-8ee6-d9542d92bf89"
      },
      "source": [
        "len(test_data) \n",
        "# Have last day as 27sept -->  Taking prev 100 days data   to get --> 28th sept"
      ],
      "execution_count": null,
      "outputs": [
        {
          "output_type": "execute_result",
          "data": {
            "text/plain": [
              "3876"
            ]
          },
          "metadata": {
            "tags": []
          },
          "execution_count": 33
        }
      ]
    },
    {
      "cell_type": "code",
      "metadata": {
        "id": "neBadkQusYr5",
        "colab": {
          "base_uri": "https://localhost:8080/"
        },
        "outputId": "ef1b1ece-9c92-4689-f943-acea357c0e20"
      },
      "source": [
        "x_input=training_data[len(training_data)-100:].reshape(-1,1) #Taking previous day 100 data\n",
        "x_input.shape"
      ],
      "execution_count": null,
      "outputs": [
        {
          "output_type": "execute_result",
          "data": {
            "text/plain": [
              "(100, 1)"
            ]
          },
          "metadata": {
            "tags": []
          },
          "execution_count": 34
        }
      ]
    },
    {
      "cell_type": "code",
      "metadata": {
        "id": "uuXza7cZsYr7"
      },
      "source": [
        "temp_input=list(x_input)\n",
        "temp_input=temp_input[0].tolist()"
      ],
      "execution_count": null,
      "outputs": []
    },
    {
      "cell_type": "code",
      "metadata": {
        "colab": {
          "base_uri": "https://localhost:8080/"
        },
        "id": "gPK1pXNspQeZ",
        "outputId": "1ba39bb1-6019-467f-cc13-613afd4ca42a"
      },
      "source": [
        "x_input=x_input.reshape((1,n_steps,1))\n",
        "yhat=model.predict(x_input,verbose=0)\n",
        "yhat[0].tolist()\n",
        "temp_input.extend(yhat[0].tolist())\n",
        "temp_input\n",
        "len(temp_input)"
      ],
      "execution_count": null,
      "outputs": [
        {
          "output_type": "execute_result",
          "data": {
            "text/plain": [
              "3"
            ]
          },
          "metadata": {
            "tags": []
          },
          "execution_count": 109
        }
      ]
    },
    {
      "cell_type": "code",
      "metadata": {
        "colab": {
          "base_uri": "https://localhost:8080/"
        },
        "id": "k_PJ1ha8pqrT",
        "outputId": "7ee9b6a5-baff-4024-b824-3688a40fd3a1"
      },
      "source": [
        "temp_input"
      ],
      "execution_count": null,
      "outputs": [
        {
          "output_type": "execute_result",
          "data": {
            "text/plain": [
              "[0.7797886529855602, 0.9901625514030457, 0.9901625514030457]"
            ]
          },
          "metadata": {
            "tags": []
          },
          "execution_count": 110
        }
      ]
    },
    {
      "cell_type": "code",
      "metadata": {
        "id": "bILlVS7knrEi"
      },
      "source": [
        "for i in range(len(temp_input)):\n",
        "  temp_input[i]=temp_input[i].tolist()"
      ],
      "execution_count": null,
      "outputs": []
    },
    {
      "cell_type": "code",
      "metadata": {
        "id": "Dq1J5hRMsYr_",
        "colab": {
          "base_uri": "https://localhost:8080/"
        },
        "outputId": "4febfd20-0fd0-4222-ad4a-c80272427de6"
      },
      "source": [
        "\n",
        "from numpy import array\n",
        "lst_output=[] #empty list\n",
        "n_steps =100\n",
        "i=0\n",
        "while (i<30):\n",
        "    if(len(temp_input)>100):\n",
        "        #print(temp_input)\n",
        "        x_input=np.array(temp_input[1:])   #gets prev 100 day data from latest(updated) temp_input\n",
        "        print(\"{} day input {}\".format(i,x_input))\n",
        "        x_input=x_input.reshape(1,-1)\n",
        "        x_input=x_input.reshape((1,n_steps,1))\n",
        "        \n",
        "        #print(x_input)\n",
        "        yhat=model.predict(x_input,verbose=0)\n",
        "        print(\"{} day output {}\".format(i,yhat))\n",
        "        temp_input.extend(yhat[0].tolist())\n",
        "        temp_input=temp_input[1:]\n",
        "        #print(temp_input)\n",
        "        lst_output.extend(yhat.tolist())\n",
        "        i=i+1\n",
        "    else:\n",
        "        x_input=x_input.reshape((1,n_steps,1))\n",
        "        yhat=model.predict(x_input,verbose=0)\n",
        "        print(yhat[0])\n",
        "        temp_input.extend(yhat[0].tolist())\n",
        "        print(len(temp_input))\n",
        "        %debug\n",
        "        lst_output.extend(yhat.tolist())\n",
        "        i=i+1\n",
        "        \n",
        "        \n",
        "print(lst_output)"
      ],
      "execution_count": null,
      "outputs": [
        {
          "output_type": "stream",
          "text": [
            "[0.97331727]\n",
            "2\n",
            "> \u001b[0;32m<ipython-input-4-0cefd78f27f4>\u001b[0m(1)\u001b[0;36m<module>\u001b[0;34m()\u001b[0m\n",
            "\u001b[0;32m----> 1 \u001b[0;31m\u001b[0mtemp_input\u001b[0m\u001b[0;34m=\u001b[0m\u001b[0mlist\u001b[0m\u001b[0;34m(\u001b[0m\u001b[0mx_input\u001b[0m\u001b[0;34m)\u001b[0m\u001b[0;34m\u001b[0m\u001b[0;34m\u001b[0m\u001b[0m\n",
            "\u001b[0m\u001b[0;32m      2 \u001b[0;31m\u001b[0mtemp_input\u001b[0m\u001b[0;34m=\u001b[0m\u001b[0mtemp_input\u001b[0m\u001b[0;34m[\u001b[0m\u001b[0;36m0\u001b[0m\u001b[0;34m]\u001b[0m\u001b[0;34m.\u001b[0m\u001b[0mtolist\u001b[0m\u001b[0;34m(\u001b[0m\u001b[0;34m)\u001b[0m\u001b[0;34m\u001b[0m\u001b[0;34m\u001b[0m\u001b[0m\n",
            "\u001b[0m\n",
            "ipdb> temp_input\n",
            "[0.7797886529855602, 0.9733172655105591]\n",
            "ipdb> temp_input\n",
            "[0.7797886529855602, 0.9733172655105591]\n",
            "ipdb> \n",
            "[0.7797886529855602, 0.9733172655105591]\n",
            "ipdb> \n",
            "[0.7797886529855602, 0.9733172655105591]\n",
            "--KeyboardInterrupt--\n",
            "ipdb> c\n",
            "[0.97331727]\n",
            "3\n",
            "> \u001b[0;32m<ipython-input-4-0cefd78f27f4>\u001b[0m(1)\u001b[0;36m<module>\u001b[0;34m()\u001b[0m\n",
            "\u001b[0;32m----> 1 \u001b[0;31m\u001b[0mtemp_input\u001b[0m\u001b[0;34m=\u001b[0m\u001b[0mlist\u001b[0m\u001b[0;34m(\u001b[0m\u001b[0mx_input\u001b[0m\u001b[0;34m)\u001b[0m\u001b[0;34m\u001b[0m\u001b[0;34m\u001b[0m\u001b[0m\n",
            "\u001b[0m\u001b[0;32m      2 \u001b[0;31m\u001b[0mtemp_input\u001b[0m\u001b[0;34m=\u001b[0m\u001b[0mtemp_input\u001b[0m\u001b[0;34m[\u001b[0m\u001b[0;36m0\u001b[0m\u001b[0;34m]\u001b[0m\u001b[0;34m.\u001b[0m\u001b[0mtolist\u001b[0m\u001b[0;34m(\u001b[0m\u001b[0;34m)\u001b[0m\u001b[0;34m\u001b[0m\u001b[0;34m\u001b[0m\u001b[0m\n",
            "\u001b[0m\n",
            "ipdb> c\n",
            "[0.97331727]\n",
            "4\n",
            "> \u001b[0;32m<ipython-input-4-0cefd78f27f4>\u001b[0m(1)\u001b[0;36m<module>\u001b[0;34m()\u001b[0m\n",
            "\u001b[0;32m----> 1 \u001b[0;31m\u001b[0mtemp_input\u001b[0m\u001b[0;34m=\u001b[0m\u001b[0mlist\u001b[0m\u001b[0;34m(\u001b[0m\u001b[0mx_input\u001b[0m\u001b[0;34m)\u001b[0m\u001b[0;34m\u001b[0m\u001b[0;34m\u001b[0m\u001b[0m\n",
            "\u001b[0m\u001b[0;32m      2 \u001b[0;31m\u001b[0mtemp_input\u001b[0m\u001b[0;34m=\u001b[0m\u001b[0mtemp_input\u001b[0m\u001b[0;34m[\u001b[0m\u001b[0;36m0\u001b[0m\u001b[0;34m]\u001b[0m\u001b[0;34m.\u001b[0m\u001b[0mtolist\u001b[0m\u001b[0;34m(\u001b[0m\u001b[0;34m)\u001b[0m\u001b[0;34m\u001b[0m\u001b[0;34m\u001b[0m\u001b[0m\n",
            "\u001b[0m\n",
            "ipdb> \n",
            "[0.97331727]\n",
            "5\n",
            "> \u001b[0;32m<ipython-input-4-0cefd78f27f4>\u001b[0m(1)\u001b[0;36m<module>\u001b[0;34m()\u001b[0m\n",
            "\u001b[0;32m----> 1 \u001b[0;31m\u001b[0mtemp_input\u001b[0m\u001b[0;34m=\u001b[0m\u001b[0mlist\u001b[0m\u001b[0;34m(\u001b[0m\u001b[0mx_input\u001b[0m\u001b[0;34m)\u001b[0m\u001b[0;34m\u001b[0m\u001b[0;34m\u001b[0m\u001b[0m\n",
            "\u001b[0m\u001b[0;32m      2 \u001b[0;31m\u001b[0mtemp_input\u001b[0m\u001b[0;34m=\u001b[0m\u001b[0mtemp_input\u001b[0m\u001b[0;34m[\u001b[0m\u001b[0;36m0\u001b[0m\u001b[0;34m]\u001b[0m\u001b[0;34m.\u001b[0m\u001b[0mtolist\u001b[0m\u001b[0;34m(\u001b[0m\u001b[0;34m)\u001b[0m\u001b[0;34m\u001b[0m\u001b[0;34m\u001b[0m\u001b[0m\n",
            "\u001b[0m\n"
          ],
          "name": "stdout"
        }
      ]
    },
    {
      "cell_type": "code",
      "metadata": {
        "id": "_ohYixLdsYsB"
      },
      "source": [
        "day_new=np.arange(1,101)\n",
        "day_pred=np.arange(101,131)"
      ],
      "execution_count": null,
      "outputs": []
    },
    {
      "cell_type": "code",
      "metadata": {
        "id": "rg2PYSvmsYsD",
        "colab": {
          "base_uri": "https://localhost:8080/"
        },
        "outputId": "0bdef470-478d-4200-db6c-f243eee31e24"
      },
      "source": [
        "len(df2) #df2 is scaled dataframe"
      ],
      "execution_count": null,
      "outputs": [
        {
          "output_type": "execute_result",
          "data": {
            "text/plain": [
              "3878"
            ]
          },
          "metadata": {
            "tags": []
          },
          "execution_count": 58
        }
      ]
    },
    {
      "cell_type": "code",
      "metadata": {
        "id": "i1PWJgXTsYsF"
      },
      "source": [
        "df3=df2.tolist()\n",
        "df3.extend(lst_output) # adding the latest output to the existing data"
      ],
      "execution_count": null,
      "outputs": []
    },
    {
      "cell_type": "code",
      "metadata": {
        "id": "gxu-tzZCsYsH",
        "colab": {
          "base_uri": "https://localhost:8080/",
          "height": 388
        },
        "outputId": "b6fb2074-a969-4093-db75-1fdcc3e90d68"
      },
      "source": [
        "plt.figure(figsize=(16,6))\n",
        "\n",
        "timeframe_prev =list(range(len(df2)-250, len(df2)))\n",
        "plt.plot(timeframe_prev,sc.inverse_transform(df2[len(df2)-250:]), label=\"Price till 26th Sept\",linewidth=2.5) \n",
        "\n",
        "timeframe =list(range(len(df2), len(df2)+30))\n",
        "plt.plot(timeframe,sc.inverse_transform(lst_output), label=\"Predicted price in next 30 trading sessions\",linewidth=2.5)\n",
        "\n",
        "plt.xlabel('Time')\n",
        "plt.ylabel('Bata-India Share Price')\n",
        "plt.legend()\n",
        "plt.show()"
      ],
      "execution_count": null,
      "outputs": [
        {
          "output_type": "display_data",
          "data": {
            "image/png": "[encoded data removed]",
            "text/plain": [
              "<Figure size 1152x432 with 1 Axes>"
            ]
          },
          "metadata": {
            "tags": [],
            "needs_background": "light"
          }
        }
      ]
    },
    {
      "cell_type": "code",
      "metadata": {
        "id": "-NOPJJtf3Nzv",
        "colab": {
          "base_uri": "https://localhost:8080/"
        },
        "outputId": "4737a39a-b651-44b6-e40c-5a6748d9557f"
      },
      "source": [
        "sc.inverse_transform(lst_output)"
      ],
      "execution_count": null,
      "outputs": [
        {
          "output_type": "execute_result",
          "data": {
            "text/plain": [
              "array([[2068.65099682],\n",
              "       [2053.68056755],\n",
              "       [2038.76436901],\n",
              "       [2022.51814318],\n",
              "       [2008.27495544],\n",
              "       [1995.81688325],\n",
              "       [1984.01857655],\n",
              "       [1972.18153363],\n",
              "       [1959.66198328],\n",
              "       [1946.1622813 ],\n",
              "       [1931.92309213],\n",
              "       [1917.57969001],\n",
              "       [1904.82772227],\n",
              "       [1894.24323417],\n",
              "       [1885.78499036],\n",
              "       [1878.1816927 ],\n",
              "       [1870.21302489],\n",
              "       [1861.08576887],\n",
              "       [1850.60899248],\n",
              "       [1839.38298239],\n",
              "       [1828.68178577],\n",
              "       [1818.1852664 ],\n",
              "       [1808.38824842],\n",
              "       [1799.49890784],\n",
              "       [1791.02466972],\n",
              "       [1782.37024564],\n",
              "       [1772.95509194],\n",
              "       [1762.74272158],\n",
              "       [1752.20396723],\n",
              "       [1742.1757814 ]])"
            ]
          },
          "metadata": {
            "tags": []
          },
          "execution_count": 63
        }
      ]
    },
    {
      "cell_type": "code",
      "metadata": {
        "id": "m2KFtkx6sYsJ",
        "colab": {
          "base_uri": "https://localhost:8080/",
          "height": 282
        },
        "outputId": "66f694ae-a2a2-4521-d11b-21abef681e8a"
      },
      "source": [
        "df3=df2.tolist()\n",
        "df3.extend(lst_output)\n",
        "plt.plot(sc.inverse_transform(df3[len(df2)-200:]))"
      ],
      "execution_count": null,
      "outputs": [
        {
          "output_type": "execute_result",
          "data": {
            "text/plain": [
              "[<matplotlib.lines.Line2D at 0x7f96c74241d0>]"
            ]
          },
          "metadata": {
            "tags": []
          },
          "execution_count": 64
        },
        {
          "output_type": "display_data",
          "data": {
            "image/png": "[encoded data removed]",
            "text/plain": [
              "<Figure size 432x288 with 1 Axes>"
            ]
          },
          "metadata": {
            "tags": [],
            "needs_background": "light"
          }
        }
      ]
    },
    {
      "cell_type": "code",
      "metadata": {
        "id": "1UbB3-nQsYsN",
        "colab": {
          "base_uri": "https://localhost:8080/",
          "height": 325
        },
        "outputId": "16b1a6cd-5db5-4d04-b10c-cc5faba3205b"
      },
      "source": [
        "from .colab import drive\n",
        "drive.mount(\"/content/gdrive\")"
      ],
      "execution_count": null,
      "outputs": [
        {
          "output_type": "error",
          "ename": "ModuleNotFoundError",
          "evalue": "ignored",
          "traceback": [
            "\u001b[0;31m---------------------------------------------------------------------------\u001b[0m",
            "\u001b[0;31mModuleNotFoundError\u001b[0m                       Traceback (most recent call last)",
            "\u001b[0;32m<ipython-input-57-b627f3f0c790>\u001b[0m in \u001b[0;36m<module>\u001b[0;34m()\u001b[0m\n\u001b[0;32m----> 1\u001b[0;31m \u001b[0;32mfrom\u001b[0m \u001b[0;34m.\u001b[0m\u001b[0mcolab\u001b[0m \u001b[0;32mimport\u001b[0m \u001b[0mdrive\u001b[0m\u001b[0;34m\u001b[0m\u001b[0;34m\u001b[0m\u001b[0m\n\u001b[0m\u001b[1;32m      2\u001b[0m \u001b[0mdrive\u001b[0m\u001b[0;34m.\u001b[0m\u001b[0mmount\u001b[0m\u001b[0;34m(\u001b[0m\u001b[0;34m\"/content/gdrive\"\u001b[0m\u001b[0;34m)\u001b[0m\u001b[0;34m\u001b[0m\u001b[0;34m\u001b[0m\u001b[0m\n",
            "\u001b[0;31mModuleNotFoundError\u001b[0m: No module named '__main__.colab'; '__main__' is not a package",
            "",
            "\u001b[0;31m---------------------------------------------------------------------------\u001b[0;32m\nNOTE: If your import is failing due to a missing package, you can\nmanually install dependencies using either !pip or !apt.\n\nTo view examples of installing some common dependencies, click the\n\"Open Examples\" button below.\n\u001b[0;31m---------------------------------------------------------------------------\u001b[0m\n"
          ]
        }
      ]
    },
    {
      "cell_type": "code",
      "metadata": {
        "id": "DfdNum5CsYsT",
        "colab": {
          "base_uri": "https://localhost:8080/",
          "height": 202
        },
        "outputId": "df4601b1-e058-4cb8-d731-daac1d19c38f"
      },
      "source": [
        " model_save_name=\"share price prediction bidirectional RNN weights\"\n",
        "path = F\"/content/gdrive/My Drive/{model_save_name}\" \n",
        "torch.save(model.state_dict(), path)\n",
        "  "
      ],
      "execution_count": null,
      "outputs": [
        {
          "output_type": "error",
          "ename": "NameError",
          "evalue": "ignored",
          "traceback": [
            "\u001b[0;31m---------------------------------------------------------------------------\u001b[0m",
            "\u001b[0;31mNameError\u001b[0m                                 Traceback (most recent call last)",
            "\u001b[0;32m<ipython-input-99-d7d5ab62b35c>\u001b[0m in \u001b[0;36m<module>\u001b[0;34m()\u001b[0m\n\u001b[1;32m      1\u001b[0m \u001b[0mmodel_save_name\u001b[0m\u001b[0;34m=\u001b[0m\u001b[0;34m\"share price prediction bidirectional RNN weights\"\u001b[0m\u001b[0;34m\u001b[0m\u001b[0;34m\u001b[0m\u001b[0m\n\u001b[1;32m      2\u001b[0m \u001b[0mpath\u001b[0m \u001b[0;34m=\u001b[0m \u001b[0;34mF\"/content/gdrive/My Drive/{model_save_name}\"\u001b[0m\u001b[0;34m\u001b[0m\u001b[0;34m\u001b[0m\u001b[0m\n\u001b[0;32m----> 3\u001b[0;31m \u001b[0mtorch\u001b[0m\u001b[0;34m.\u001b[0m\u001b[0msave\u001b[0m\u001b[0;34m(\u001b[0m\u001b[0mmodel\u001b[0m\u001b[0;34m.\u001b[0m\u001b[0mstate_dict\u001b[0m\u001b[0;34m(\u001b[0m\u001b[0;34m)\u001b[0m\u001b[0;34m,\u001b[0m \u001b[0mpath\u001b[0m\u001b[0;34m)\u001b[0m\u001b[0;34m\u001b[0m\u001b[0;34m\u001b[0m\u001b[0m\n\u001b[0m",
            "\u001b[0;31mNameError\u001b[0m: name 'torch' is not defined"
          ]
        }
      ]
    },
    {
      "cell_type": "code",
      "metadata": {
        "id": "o1wKLiW58C2d"
      },
      "source": [
        ""
      ],
      "execution_count": null,
      "outputs": []
    }
  ]
}